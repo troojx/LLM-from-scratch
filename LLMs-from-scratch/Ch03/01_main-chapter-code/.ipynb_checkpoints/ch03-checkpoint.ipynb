{
 "cells": [
  {
   "cell_type": "markdown",
   "id": "c42d5d98",
   "metadata": {},
   "source": [
    "# Chapter 3: Coding Attention Mechanisms"
   ]
  },
  {
   "cell_type": "code",
   "execution_count": 1,
   "id": "867483d1",
   "metadata": {},
   "outputs": [
    {
     "name": "stdout",
     "output_type": "stream",
     "text": [
      "torch version: 2.5.1+cu121\n"
     ]
    }
   ],
   "source": [
    "from importlib.metadata import version\n",
    "\n",
    "print(\"torch version:\", version(\"torch\"))"
   ]
  },
  {
   "cell_type": "markdown",
   "id": "18dbc32f",
   "metadata": {},
   "source": [
    "<img src=\"https://sebastianraschka.com/images/LLMs-from-scratch-images/ch03_compressed/01.webp?123\" width=\"500px\">"
   ]
  },
  {
   "cell_type": "markdown",
   "id": "456e4f91",
   "metadata": {},
   "source": [
    "<img src=\"https://sebastianraschka.com/images/LLMs-from-scratch-images/ch03_compressed/02.webp\" width=\"600px\">"
   ]
  },
  {
   "cell_type": "markdown",
   "id": "95c823b0",
   "metadata": {},
   "source": [
    "## 3.1 长序列建模的问题"
   ]
  },
  {
   "cell_type": "markdown",
   "id": "5d652c44",
   "metadata": {},
   "source": [
    "- 逐字逐句翻译文本不可行，因为不同目标语言的语法结构差异很大。\n",
    "<img src=\"https://sebastianraschka.com/images/LLMs-from-scratch-images/ch03_compressed/03.webp\" width=\"400px\">"
   ]
  },
  {
   "cell_type": "markdown",
   "id": "fa1755aa",
   "metadata": {},
   "source": [
    "- 在 Transformer 模型出现之前，基于 RNN 的编码器-解码器架构 （encoder-decoder RNNs）用于机器翻译任务\n",
    "- 编码器使用hidden state（一种神经网络的中间层）来处理源语言的tokens，生成整个input序列的压缩表示\n",
    "\n",
    "<img src=\"https://sebastianraschka.com/images/LLMs-from-scratch-images/ch03_compressed/04.webp\" width=\"500px\">"
   ]
  },
  {
   "cell_type": "markdown",
   "id": "303f2fb4",
   "metadata": {},
   "source": [
    "## 3.2 注意力机制中的数据依赖捕捉"
   ]
  },
  {
   "cell_type": "markdown",
   "id": "ddcefc28",
   "metadata": {},
   "source": [
    "- 通过注意力机制，生成文本的解码器 选择性访问 编码器中的输入标记，特定的token在生成特定的输出时有不同的significance\n",
    "<img src=\"https://sebastianraschka.com/images/LLMs-from-scratch-images/ch03_compressed/05.webp\" width=\"500px\">"
   ]
  },
  {
   "cell_type": "markdown",
   "id": "b28ce7de",
   "metadata": {},
   "source": [
    "- Transformer的自注意力机制 突破了传统 RNN 的限制，它允许序列中的每个位置能够关注序列中其他位置的标记，赋予每个标记对序列中其他标记的重要性评分。这一评分决定了在生成当前标记时，哪些输入标记更重要。\n",
    "<img src=\"https://sebastianraschka.com/images/LLMs-from-scratch-images/ch03_compressed/06.webp\" width=\"300px\">"
   ]
  },
  {
   "cell_type": "markdown",
   "id": "5e3e77d4",
   "metadata": {},
   "source": [
    "## 3.3 使用自注意力关注输入的不同部分"
   ]
  },
  {
   "cell_type": "markdown",
   "id": "bc7380b3",
   "metadata": {},
   "source": [
    "### 3.3.1 一个没有可训练权重的简单自注意力机制\n",
    "本节解释了一个非常简化的自注意力变体，它不包含任何可训练的权重。这仅仅是为了说明概念，并不是 Transformer 中使用的注意力机制。接下来的 3.3.2 节将扩展这一简单的注意力机制，以实现真正的自注意力机制。\n",
    "\n",
    "- 给定一个输入序列 $x^{(1)}$ \n",
    "  到 $x^{(T)}$ \n",
    " ，其中输入是一个文本（例如：“Your journey starts with one step”），该文本已经按照第二章中描述的方式转换为 token 嵌入。举个例子，\n",
    "𝑥\n",
    "(\n",
    "1\n",
    ")\n",
    "  是表示单词 “Your” 的 \n",
    "d-维向量，以此类推。\n",
    "- 目标：计算每个输入序列元素 $x^{(i)}$ 对应的上下文向量 $z^{(i)}$ ，其中 𝑧 和 x 的维度相同。\n",
    "\n",
    "上下文向量 $z^{(i)}$  是从所有输入 $x^{(1)}$ 到 $x^{(T)}$  中加权求和得到的。上下文向量是“上下文特定”的，针对某个特定的输入。\n",
    "\n",
    "考虑第二个输入 $x^{(2)}$ 和第二个输出上下文向量$z^{(2)}$  （这是一个加权和，权重是根据第二个输入元素计算的，这个加权和涵盖了所有输入）\n",
    "\n",
    "注意力权重 是指在计算 $z^{(2)}$  时，决定每个输入元素对加权和贡献多少的权重。\n",
    "\n",
    "  $z^{(2)}$ 看作是  $x^{(2)}$ 的一个修改版本，这个版本还结合了与当前任务相关的所有其他输入元素的信息。\n",
    "  \n",
    "- 根据约定，未经归一化的注意力权重被称为“注意力得分” **\"attention scores\"**，而归一化后的注意力得分（和为 1）则被称为“注意力权重” **\"attention weights\"**。\n",
    "\n",
    "<img src=\"https://sebastianraschka.com/images/LLMs-from-scratch-images/ch03_compressed/07.webp\" width=\"400px\">"
   ]
  },
  {
   "cell_type": "markdown",
   "id": "d096f3b9",
   "metadata": {},
   "source": [
    "#### 步骤 1：计算未经归一化的注意力得分 𝜔\n",
    "- 假设我们使用第二个输入 token 作为查询，即 $q^{(2)} = x^{(2)}$ ，我们通过点积计算未经归一化的注意力得分：\n",
    "    - $\\omega_{21} = x^{(1)} q^{(2)\\top}$\n",
    "    - $\\omega_{22} = x^{(2)} q^{(2)\\top}$\n",
    "    - $\\omega_{23} = x^{(3)} q^{(2)\\top}$\n",
    "    - ...\n",
    "    - $\\omega_{2T} = x^{(T)} q^{(2)\\top}$\n",
    "   \n",
    "- ω 是用于表示未经归一化的注意力得分的希腊字母 “omega”。下标 “21” 表示输入序列元素 2 被用作查询，查询的是输入序列元素 1。\n",
    "\n",
    "\n",
    "- 假设我们有以下输入句子，它已经嵌入为 3 维向量（为了说明方便，这里使用了非常小的嵌入维度，使其适合页面显示，不会换行）："
   ]
  },
  {
   "cell_type": "code",
   "execution_count": 2,
   "id": "5878df0b",
   "metadata": {},
   "outputs": [],
   "source": [
    "import torch\n",
    "\n",
    "inputs = torch.tensor(\n",
    "  [[0.43, 0.15, 0.89], # Your     (x^1)\n",
    "   [0.55, 0.87, 0.66], # journey  (x^2)\n",
    "   [0.57, 0.85, 0.64], # starts   (x^3)\n",
    "   [0.22, 0.58, 0.33], # with     (x^4)\n",
    "   [0.77, 0.25, 0.10], # one      (x^5)\n",
    "   [0.05, 0.80, 0.55]] # step     (x^6)\n",
    ")"
   ]
  },
  {
   "cell_type": "markdown",
   "id": "a0f2bc40",
   "metadata": {},
   "source": [
    "- 在本书中，我们遵循常见的机器学习和深度学习惯例，其中训练样本表示为行，特征值表示为列；在上面展示的张量中，每一行表示一个单词，每一列表示一个嵌入维度。\n",
    "- 第一步是通过计算查询  $x^{(2)}$   与所有其他输入 tokens 的点积来计算未经归一化的注意力得分。\n",
    "- 本节的主要目标是展示如何使用第二个输入序列  $x^{(2)}$  作为查询来计算上下文向量 $z^{(2)}$ 。\n",
    "\n",
    "- 图示展示了这一过程的初步步骤，即通过点积运算计算 $x^{(2)}$   与所有其他输入元素之间的注意力得分 ω。\n",
    "\n",
    "<img src=\"https://sebastianraschka.com/images/LLMs-from-scratch-images/ch03_compressed/08.webp\" width=\"400px\">"
   ]
  },
  {
   "cell_type": "code",
   "execution_count": 3,
   "id": "81950188",
   "metadata": {},
   "outputs": [
    {
     "name": "stdout",
     "output_type": "stream",
     "text": [
      "tensor([0.9544, 1.4950, 1.4754, 0.8434, 0.7070, 1.0865])\n"
     ]
    }
   ],
   "source": [
    "query = inputs[1]  #1.选择查询： 第二个输入 token is the query\n",
    "\n",
    "# 创建空张量 用于存储每个输入 token 相对于 query 的注意力分数。\n",
    "attn_scores_2 = torch.empty(inputs.shape[0])\n",
    "#遍历inputs中的每一个token   x_i 是当前的输入 token 向量，i 是它的索引。\n",
    "for i, x_i in enumerate(inputs):\n",
    "    attn_scores_2[i] = torch.dot(x_i, query) # 点积 计算注意力分数\n",
    "\n",
    "print(attn_scores_2)"
   ]
  },
  {
   "cell_type": "markdown",
   "id": "6e5ea8d0",
   "metadata": {},
   "source": [
    " -  a dot product 点积 本质上是“逐元素相乘并求和”。在NLP和深度学习中，点积通常用于计算两个向量的相似度。数值越大，通常表示向量的相似度越高（在特征空间中更接近）。"
   ]
  },
  {
   "cell_type": "code",
   "execution_count": 4,
   "id": "307c4b0d",
   "metadata": {},
   "outputs": [
    {
     "name": "stdout",
     "output_type": "stream",
     "text": [
      "tensor(0.9544)\n",
      "tensor(0.9544)\n"
     ]
    }
   ],
   "source": [
    "res = 0.\n",
    "\n",
    "#手动实现点积   遍历 inputs[0] 向量的每个元素\n",
    "for idx, element in enumerate(inputs[0]):\n",
    "    res += inputs[0][idx] * query[idx]\n",
    "\n",
    "print(res)\n",
    "\n",
    "#使用torch.dot计算点积\n",
    "print(torch.dot(inputs[0], query))"
   ]
  },
  {
   "cell_type": "markdown",
   "id": "ad961ba3",
   "metadata": {},
   "source": [
    "#### 步骤2：归一化attention score w 使其总和为1\n",
    "- 将attention score转化为概率分布，为了更好地解释和训练稳定性。\n",
    "<img src=\"https://sebastianraschka.com/images/LLMs-from-scratch-images/ch03_compressed/09.webp\" width=\"500px\">"
   ]
  },
  {
   "cell_type": "code",
   "execution_count": 5,
   "id": "11aeda44",
   "metadata": {},
   "outputs": [
    {
     "name": "stdout",
     "output_type": "stream",
     "text": [
      "Attention weights: tensor([0.1455, 0.2278, 0.2249, 0.1285, 0.1077, 0.1656])\n",
      "Sum: tensor(1.0000)\n"
     ]
    }
   ],
   "source": [
    "# 注意力权重=注意力得分/总分\n",
    "attn_weights_2_tmp = attn_scores_2 / attn_scores_2.sum()\n",
    "\n",
    "print(\"Attention weights:\", attn_weights_2_tmp)\n",
    "print(\"Sum:\", attn_weights_2_tmp.sum())"
   ]
  },
  {
   "attachments": {
    "image.png": {
     "image/png": "[encoded data removed]"
    }
   },
   "cell_type": "markdown",
   "id": "e51dd57c",
   "metadata": {},
   "source": [
    "- 这种方法将确保所有的注意力得分的总和为 1，但它不适合处理极端值（非常大的或非常小的得分），因为它可能会导致数值不稳定，进而影响计算。\n",
    "\n",
    "- 使用 **Softmax** 进行归一化：\n",
    "    - 更好的处理极值\n",
    "    - 训练时 更好的梯度性质\n",
    "![image.png](attachment:image.png)"
   ]
  },
  {
   "cell_type": "code",
   "execution_count": 6,
   "id": "1fcaa771",
   "metadata": {},
   "outputs": [
    {
     "name": "stdout",
     "output_type": "stream",
     "text": [
      "Attention weights: tensor([0.1385, 0.2379, 0.2333, 0.1240, 0.1082, 0.1581])\n",
      "Sum: tensor(1.)\n"
     ]
    }
   ],
   "source": [
    "def softmax_naive(x):\n",
    "    return torch.exp(x) / torch.exp(x).sum(dim=0)   #dim=0表示在第一个维度（即所有元素）\n",
    "\n",
    "#归一化\n",
    "attn_weights_2_naive = softmax_naive(attn_scores_2)\n",
    "\n",
    "print(\"Attention weights:\", attn_weights_2_naive)\n",
    "print(\"Sum:\", attn_weights_2_naive.sum())"
   ]
  },
  {
   "cell_type": "markdown",
   "id": "7ad92726",
   "metadata": {},
   "source": [
    "- 上述简单的 Softmax 实现虽然有效，但在输入值过大或过小时，可能会遭遇溢出（overflow）或下溢（underflow）的问题，导致数值不稳定。\n",
    "\n",
    "- 为了解决这一问题，实践中通常推荐使用经过优化的版本——**PyTorch 内置的 softmax** 实现。PyTorch 中的 Softmax 函数经过高度优化，能够避免溢出和下溢，并提高计算效率。"
   ]
  },
  {
   "cell_type": "code",
   "execution_count": 7,
   "id": "213f4103",
   "metadata": {},
   "outputs": [
    {
     "name": "stdout",
     "output_type": "stream",
     "text": [
      "Attention weights: tensor([0.1385, 0.2379, 0.2333, 0.1240, 0.1082, 0.1581])\n",
      "Sum: tensor(1.)\n"
     ]
    }
   ],
   "source": [
    "attn_weights_2 = torch.softmax(attn_scores_2, dim=0)\n",
    "\n",
    "print(\"Attention weights:\", attn_weights_2)\n",
    "print(\"Sum:\", attn_weights_2.sum())"
   ]
  },
  {
   "cell_type": "markdown",
   "id": "9d3f9d01",
   "metadata": {},
   "source": [
    "#### 步骤3：计算上下文向量$z^{(2)}$ = sum ( $x^{(i)}$ * attention weights)\n",
    "<img src=\"https://sebastianraschka.com/images/LLMs-from-scratch-images/ch03_compressed/10.webp\" width=\"500px\">"
   ]
  },
  {
   "cell_type": "code",
   "execution_count": 8,
   "id": "c6a39603",
   "metadata": {},
   "outputs": [
    {
     "name": "stdout",
     "output_type": "stream",
     "text": [
      "tensor([0.4419, 0.6515, 0.5683])\n"
     ]
    }
   ],
   "source": [
    "query = inputs[1] # 2nd input token is the query\n",
    "\n",
    "#初始化上下文向量，形状和查询向量相同\n",
    "context_vec_2 = torch.zeros(query.shape)\n",
    "#inputs 是包含所有输入标记嵌入的张量。\n",
    "for i,x_i in enumerate(inputs):\n",
    "    context_vec_2 += attn_weights_2[i]*x_i\n",
    "\n",
    "print(context_vec_2)"
   ]
  },
  {
   "cell_type": "markdown",
   "id": "b77a2a71",
   "metadata": {},
   "source": [
    "\n",
    "\n",
    "### 3.3.2 对所有的输入token计算注意力权重\n",
    "\n",
    "**推广到所有输入序列的token：**\n",
    "- 在前面，我们计算了输入序列中第2个token的注意力权重和上下文向量。\n",
    "- 接下来，我们将这一计算推广到所有的输入序列token，以计算所有的注意力权重和上下文向量。\n",
    "- 请注意，图中的数值已经被截取为小数点后两位，以减少视觉干扰；每行的数值总和应为1.0或100%。同样地，其他图中的数值也进行了截取。\n",
    "<img src=\"https://sebastianraschka.com/images/LLMs-from-scratch-images/ch03_compressed/11.webp\" width=\"400px\">\n",
    "\n",
    "**计算过程:**\n",
    "- 在self-attention中，首先需要计算注意力分数（attention scores），然后对其进行归一化处理，得到总和为1的注意力权重。这些注意力权重随后会用于通过输入的加权求和生成上下文向量（context vectors）。\n",
    "\n",
    "<img src=\"https://sebastianraschka.com/images/LLMs-from-scratch-images/ch03_compressed/12.webp\" width=\"400px\">"
   ]
  },
  {
   "cell_type": "code",
   "execution_count": 9,
   "id": "3ae15d94",
   "metadata": {},
   "outputs": [
    {
     "name": "stdout",
     "output_type": "stream",
     "text": [
      "tensor([[0.9995, 0.9544, 0.9422, 0.4753, 0.4576, 0.6310],\n",
      "        [0.9544, 1.4950, 1.4754, 0.8434, 0.7070, 1.0865],\n",
      "        [0.9422, 1.4754, 1.4570, 0.8296, 0.7154, 1.0605],\n",
      "        [0.4753, 0.8434, 0.8296, 0.4937, 0.3474, 0.6565],\n",
      "        [0.4576, 0.7070, 0.7154, 0.3474, 0.6654, 0.2935],\n",
      "        [0.6310, 1.0865, 1.0605, 0.6565, 0.2935, 0.9450]])\n"
     ]
    }
   ],
   "source": [
    "#第一步：注意力得分\n",
    "#创建一个大小为6×6 的未初始化张量 ，存储所有输入token之间的注意力得分（attention scores）。\n",
    "#矩阵中的每个位置 (i, j) 将对应于第 i 个和第j 个输入token之间的相似性分数。\n",
    "attn_scores = torch.empty(6, 6)\n",
    "\n",
    "#i 和 j 分别代表输入序列中两个不同的token索引。\n",
    "for i, x_i in enumerate(inputs):\n",
    "    for j, x_j in enumerate(inputs):\n",
    "        attn_scores[i, j] = torch.dot(x_i, x_j) #计算两个向量的点积，点积的大小反映了两个向量的相似性\n",
    "\n",
    "print(attn_scores)"
   ]
  },
  {
   "cell_type": "code",
   "execution_count": 10,
   "id": "2d1863e5",
   "metadata": {},
   "outputs": [
    {
     "name": "stdout",
     "output_type": "stream",
     "text": [
      "tensor([[0.9995, 0.9544, 0.9422, 0.4753, 0.4576, 0.6310],\n",
      "        [0.9544, 1.4950, 1.4754, 0.8434, 0.7070, 1.0865],\n",
      "        [0.9422, 1.4754, 1.4570, 0.8296, 0.7154, 1.0605],\n",
      "        [0.4753, 0.8434, 0.8296, 0.4937, 0.3474, 0.6565],\n",
      "        [0.4576, 0.7070, 0.7154, 0.3474, 0.6654, 0.2935],\n",
      "        [0.6310, 1.0865, 1.0605, 0.6565, 0.2935, 0.9450]])\n"
     ]
    }
   ],
   "source": [
    "#优化：通过矩阵乘法，更高效\n",
    "\n",
    "#              6*d  矩阵乘法 d*6 转置矩阵\n",
    "attn_scores = inputs @ inputs.T\n",
    "#6*6的矩阵\n",
    "print(attn_scores)"
   ]
  },
  {
   "cell_type": "code",
   "execution_count": 11,
   "id": "658d3733",
   "metadata": {},
   "outputs": [
    {
     "name": "stdout",
     "output_type": "stream",
     "text": [
      "tensor([[0.2098, 0.2006, 0.1981, 0.1242, 0.1220, 0.1452],\n",
      "        [0.1385, 0.2379, 0.2333, 0.1240, 0.1082, 0.1581],\n",
      "        [0.1390, 0.2369, 0.2326, 0.1242, 0.1108, 0.1565],\n",
      "        [0.1435, 0.2074, 0.2046, 0.1462, 0.1263, 0.1720],\n",
      "        [0.1526, 0.1958, 0.1975, 0.1367, 0.1879, 0.1295],\n",
      "        [0.1385, 0.2184, 0.2128, 0.1420, 0.0988, 0.1896]])\n"
     ]
    }
   ],
   "source": [
    "#第二步：归一化\n",
    "\n",
    "#对每一行进行 softmax 运算，使每一行的注意力得分之和为1\n",
    "attn_weights = torch.softmax(attn_scores, dim=-1)\n",
    "print(attn_weights)"
   ]
  },
  {
   "cell_type": "code",
   "execution_count": 12,
   "id": "b5b726b6",
   "metadata": {},
   "outputs": [
    {
     "name": "stdout",
     "output_type": "stream",
     "text": [
      "Row 2 sum: 1.0\n",
      "All row sums: tensor([1.0000, 1.0000, 1.0000, 1.0000, 1.0000, 1.0000])\n"
     ]
    }
   ],
   "source": [
    "#验证一下\n",
    "row_2_sum = sum([0.1385, 0.2379, 0.2333, 0.1240, 0.1082, 0.1581])\n",
    "print(\"Row 2 sum:\", row_2_sum)\n",
    "\n",
    "print(\"All row sums:\", attn_weights.sum(dim=-1))"
   ]
  },
  {
   "cell_type": "code",
   "execution_count": 13,
   "id": "ee83d1ca",
   "metadata": {},
   "outputs": [
    {
     "name": "stdout",
     "output_type": "stream",
     "text": [
      "tensor([[0.4421, 0.5931, 0.5790],\n",
      "        [0.4419, 0.6515, 0.5683],\n",
      "        [0.4431, 0.6496, 0.5671],\n",
      "        [0.4304, 0.6298, 0.5510],\n",
      "        [0.4671, 0.5910, 0.5266],\n",
      "        [0.4177, 0.6503, 0.5645]])\n"
     ]
    }
   ],
   "source": [
    "#第三步： 得到的attention weight * 输入 = 上下文向量\n",
    "all_context_vecs = attn_weights @ inputs\n",
    "print(all_context_vecs)"
   ]
  },
  {
   "cell_type": "code",
   "execution_count": 14,
   "id": "8ed8dabb",
   "metadata": {},
   "outputs": [
    {
     "name": "stdout",
     "output_type": "stream",
     "text": [
      "Previous 2nd context vector: tensor([0.4419, 0.6515, 0.5683])\n"
     ]
    }
   ],
   "source": [
    "print(\"Previous 2nd context vector:\", context_vec_2)"
   ]
  },
  {
   "cell_type": "markdown",
   "id": "4de7a081",
   "metadata": {},
   "source": [
    "\n",
    "\n",
    "## 3.4 可训练权重的自注意力机制\n",
    "<img src=\"https://sebastianraschka.com/images/LLMs-from-scratch-images/ch03_compressed/13.webp\" width=\"400px\">\n",
    "\n",
    "\n",
    "### 3.4.1 一步步计算注意力权重\n",
    "\n",
    "- 在本节中，我们将实现自注意力机制，这是原始 Transformer 架构、GPT 模型和大多数其他流行的大型语言模型（LLMs）中使用的核心机制。\n",
    "\n",
    "- 这种自注意力机制也称为 **缩放点积注意力（scaled dot-product attention）**。其核心思路类似于之前提到的注意力机制：\n",
    "    我们希望针对特定的输入元素，通过对输入向量的加权求和来计算上下文向量。为此，我们需要计算注意力权重。\n",
    "    \n",
    "- 与之前介绍的基础注意力机制相比，这种自注意力机制只有些许差异，最显著的变化是引入了训练用的**权重矩阵**，这些矩阵在模型训练过程中不断更新。这些可训练的权重矩阵非常关键，因为模型（特别是模型中的注意力模块attention module ）可以学习生成“优质”的上下文向量。\n",
    "    \n",
    "    \n",
    "<img src=\"https://sebastianraschka.com/images/LLMs-from-scratch-images/ch03_compressed/14.webp\" width=\"600px\">\n",
    "    \n",
    "    \n",
    "- 通过逐步实现自注意力机制，我们首先引入三个训练用的权重矩阵： $W_q$  $W_k$  $W_v$\n",
    "\n",
    "- 这些矩阵用于通过矩阵乘法，将嵌入的输入标记 $x^{(i)}$ 映射为查询、键和值向量：\n",
    "\n",
    "  - 查询向量 Query vector: $q^{(i)} = W_q \\,x^{(i)}$\n",
    "  - 键向量   Key vector: $k^{(i)} = W_k \\,x^{(i)}$\n",
    "  - 值向量   Value vector: $v^{(i)} = W_v \\,x^{(i)}$\n",
    "\n",
    "- 输入𝑥 的嵌入维度 和 查询向量q 的维度可以相同，也可以不同，取决于模型的设计和具体实现。在 GPT 模型中，输入和输出的维度通常相同，但为了更好地理解计算过程，这里我们选择不同的输入和输出维度。"
   ]
  },
  {
   "cell_type": "code",
   "execution_count": 15,
   "id": "0a395df3",
   "metadata": {},
   "outputs": [],
   "source": [
    "x_2 = inputs[1] # second input element\n",
    "d_in = inputs.shape[1] # the input embedding size, d=3\n",
    "d_out = 2 # the output embedding size, d=2"
   ]
  },
  {
   "cell_type": "markdown",
   "id": "9612e046",
   "metadata": {},
   "source": [
    "- 以下是初始化这三个权重矩阵的代码。需要注意的是，为了简化输出，我们将 requires_grad=False，但如果我们要在模型训练中使用这些权重矩阵，则需要设置 requires_grad=True，以便在训练期间更新这些矩阵。"
   ]
  },
  {
   "cell_type": "code",
   "execution_count": 16,
   "id": "04a31a4c",
   "metadata": {},
   "outputs": [],
   "source": [
    "#随机数生成器的种子，以确保生成的随机数在每次运行时相同。\n",
    "#为了实现结果的可复现性。在使用随机数生成权重时，设置种子有助于确保模型的结果在不同的运行之间是一致的。此处选择的种子是 123，但可以是任意整数。\n",
    "torch.manual_seed(123)\n",
    "\n",
    "#  torch.rand(d_in, d_out)  创建一个形状为 (d_in, d_out) 的张量，包含在 [0,1) 均匀分布的随机浮点数。\n",
    "# d_in 表示输入向量的维度，d_out 表示输出向量的维度。\n",
    "# Parameter(...) 将生成的随机张量包装成一个参数对象\n",
    "W_query = torch.nn.Parameter(torch.rand(d_in, d_out), requires_grad=False)\n",
    "W_key   = torch.nn.Parameter(torch.rand(d_in, d_out), requires_grad=False)\n",
    "W_value = torch.nn.Parameter(torch.rand(d_in, d_out), requires_grad=False)"
   ]
  },
  {
   "cell_type": "code",
   "execution_count": 17,
   "id": "23cec774",
   "metadata": {},
   "outputs": [
    {
     "name": "stdout",
     "output_type": "stream",
     "text": [
      "tensor([0.4306, 1.4551])\n"
     ]
    }
   ],
   "source": [
    "query_2 = x_2 @ W_query # _2 because it's with respect to the 2nd input element\n",
    "key_2 = x_2 @ W_key \n",
    "value_2 = x_2 @ W_value\n",
    "\n",
    "print(query_2)"
   ]
  },
  {
   "cell_type": "code",
   "execution_count": 18,
   "id": "60729ec7",
   "metadata": {},
   "outputs": [
    {
     "name": "stdout",
     "output_type": "stream",
     "text": [
      "keys.shape: torch.Size([6, 2])\n",
      "values.shape: torch.Size([6, 2])\n"
     ]
    }
   ],
   "source": [
    "#可以成功的6个输入token从3维转化为2维\n",
    "keys = inputs @ W_key \n",
    "values = inputs @ W_value\n",
    "\n",
    "print(\"keys.shape:\", keys.shape)\n",
    "print(\"values.shape:\", values.shape)"
   ]
  },
  {
   "cell_type": "markdown",
   "id": "04b34e5f",
   "metadata": {},
   "source": [
    "**第二步**：将得到的q依次和每个k相乘得到注意力评分\n",
    "<img src=\"https://sebastianraschka.com/images/LLMs-from-scratch-images/ch03_compressed/15.webp\" width=\"600px\">"
   ]
  },
  {
   "cell_type": "code",
   "execution_count": 19,
   "id": "3bdce75b",
   "metadata": {},
   "outputs": [
    {
     "name": "stdout",
     "output_type": "stream",
     "text": [
      "tensor(1.8524)\n"
     ]
    }
   ],
   "source": [
    "keys_2 = keys[1] # Python starts index at 0\n",
    "attn_score_22 = query_2.dot(keys_2)  #q2和k2的点积\n",
    "print(attn_score_22)"
   ]
  },
  {
   "cell_type": "code",
   "execution_count": 20,
   "id": "429ac04c",
   "metadata": {},
   "outputs": [
    {
     "name": "stdout",
     "output_type": "stream",
     "text": [
      "tensor([1.2705, 1.8524, 1.8111, 1.0795, 0.5577, 1.5440])\n"
     ]
    }
   ],
   "source": [
    "#对于以q2为query的，每一个都有一个attention score\n",
    "attn_scores_2 = query_2 @ keys.T # All attention scores for given query\n",
    "print(attn_scores_2)"
   ]
  },
  {
   "cell_type": "markdown",
   "id": "454e0223",
   "metadata": {},
   "source": [
    "<img src=\"https://sebastianraschka.com/images/LLMs-from-scratch-images/ch03_compressed/16.webp\" width=\"600px\">\n",
    "\n",
    "- **第三步：** 归一化得到权重，不同之处在于现在我们将注意力得分除以嵌入维度 d_k 的平方根 $\\sqrt{d_k}$ (i.e., `d_k**0.5`)来进行缩放 :"
   ]
  },
  {
   "cell_type": "code",
   "execution_count": 21,
   "id": "a52e3a5d",
   "metadata": {},
   "outputs": [
    {
     "name": "stdout",
     "output_type": "stream",
     "text": [
      "tensor([0.1500, 0.2264, 0.2199, 0.1311, 0.0906, 0.1820])\n"
     ]
    }
   ],
   "source": [
    "#keys 是键向量的矩阵，其形状为 (num_keys, embedding_dim)\n",
    "#获取键向量的嵌入维度 d_k，即矩阵的第二个维度。这个值将用于对注意力得分进行缩放。\n",
    "d_k = keys.shape[1]\n",
    "#除以d_k的平方根，缩放过程可以防止嵌入维度较大时点积的值过大，从而减小梯度消失或爆炸的风险。\n",
    "#在缩放后的分数矩阵上应用 softmax 函数，使每行的注意力得分转化为概率分布。\n",
    "#dim=-1表示对每一行都进行softmax操作，使每行和=1\n",
    "attn_weights_2 = torch.softmax(attn_scores_2 / d_k**0.5, dim=-1)\n",
    "print(attn_weights_2)"
   ]
  },
  {
   "cell_type": "markdown",
   "id": "d06817a0",
   "metadata": {},
   "source": [
    "<img src=\"https://sebastianraschka.com/images/LLMs-from-scratch-images/ch03_compressed/17.webp\" width=\"600px\">\n",
    "\n",
    "- **第四步：** 计算对于q2的上下文向量 "
   ]
  },
  {
   "cell_type": "code",
   "execution_count": 22,
   "id": "c6e69798",
   "metadata": {},
   "outputs": [
    {
     "name": "stdout",
     "output_type": "stream",
     "text": [
      "tensor([0.3061, 0.8210])\n"
     ]
    }
   ],
   "source": [
    "#注意力权重*value矩阵\n",
    "context_vec_2 = attn_weights_2 @ values\n",
    "print(context_vec_2)"
   ]
  },
  {
   "cell_type": "markdown",
   "id": "a589937e",
   "metadata": {},
   "source": [
    "### 3.4.2 实现紧凑的 SelfAttention 类\n",
    "\n",
    "- 将前面介绍的步骤整合起来，可以通过以下代码实现自注意力机制：\n"
   ]
  },
  {
   "cell_type": "code",
   "execution_count": 23,
   "id": "90f532f7",
   "metadata": {},
   "outputs": [
    {
     "name": "stdout",
     "output_type": "stream",
     "text": [
      "tensor([[0.2996, 0.8053],\n",
      "        [0.3061, 0.8210],\n",
      "        [0.3058, 0.8203],\n",
      "        [0.2948, 0.7939],\n",
      "        [0.2927, 0.7891],\n",
      "        [0.2990, 0.8040]], grad_fn=<MmBackward0>)\n"
     ]
    }
   ],
   "source": [
    "import torch.nn as nn\n",
    "\n",
    "#继承 nn.Module\n",
    "class SelfAttention_v1(nn.Module):\n",
    "\n",
    "    #初始化函数：定义输入维度、输出维度\n",
    "    def __init__(self, d_in, d_out):\n",
    "        super().__init__()  #调用父类的初始化方法\n",
    "        # 定义查询、键和值的权重矩阵，使用 nn.Parameter 使其可训练\n",
    "        self.W_query = nn.Parameter(torch.rand(d_in, d_out))\n",
    "        self.W_key   = nn.Parameter(torch.rand(d_in, d_out))\n",
    "        self.W_value = nn.Parameter(torch.rand(d_in, d_out))\n",
    "\n",
    "    #前向传播方法，x为输入\n",
    "    def forward(self, x):\n",
    "        keys = x @ self.W_key\n",
    "        queries = x @ self.W_query\n",
    "        values = x @ self.W_value\n",
    "        \n",
    "        ## 计算注意力得分矩阵 attn_scores，通过查询和键的转置相乘得到\n",
    "        attn_scores = queries @ keys.T # omega\n",
    "        #使用 softmax 函数归一化注意力得分，除以 sqrt(d_k) 进行缩放\n",
    "        attn_weights = torch.softmax(\n",
    "            attn_scores / keys.shape[-1]**0.5, dim=-1\n",
    "        )\n",
    "\n",
    "        # 计算上下文向量 context_vec，将注意力权重矩阵与值矩阵相乘\n",
    "        context_vec = attn_weights @ values\n",
    "        return context_vec\n",
    "\n",
    "# 设置随机种子以确保结果的可重复性\n",
    "torch.manual_seed(123)\n",
    "# 初始化 SelfAttention_v1 实例，指定输入和输出维度\n",
    "sa_v1 = SelfAttention_v1(d_in, d_out)\n",
    "#打印前向传播结果\n",
    "print(sa_v1(inputs))"
   ]
  },
  {
   "cell_type": "markdown",
   "id": "b23e2f9e",
   "metadata": {},
   "source": [
    "<img src=\"https://sebastianraschka.com/images/LLMs-from-scratch-images/ch03_compressed/18.webp\" width=\"400px\">\n",
    "\n",
    "- 我们可以使用 PyTorch 的 Linear 层简化上述实现，Linear 层相当于矩阵乘法操作（如果禁用偏置项）。与我们手动使用 nn.Parameter(torch.rand(...)) 的方法相比，nn.Linear 的一个很大优势是它有一个默认的权重初始化方案，这有助于实现更稳定的模型训练。"
   ]
  },
  {
   "cell_type": "code",
   "execution_count": 24,
   "id": "afb10de3",
   "metadata": {},
   "outputs": [
    {
     "name": "stdout",
     "output_type": "stream",
     "text": [
      "tensor([[-0.0739,  0.0713],\n",
      "        [-0.0748,  0.0703],\n",
      "        [-0.0749,  0.0702],\n",
      "        [-0.0760,  0.0685],\n",
      "        [-0.0763,  0.0679],\n",
      "        [-0.0754,  0.0693]], grad_fn=<MmBackward0>)\n"
     ]
    }
   ],
   "source": [
    "class SelfAttention_v2(nn.Module):\n",
    "\n",
    "    #                                禁用偏置项\n",
    "    def __init__(self, d_in, d_out, qkv_bias=False):\n",
    "        super().__init__()\n",
    "        self.W_query = nn.Linear(d_in, d_out, bias=qkv_bias)\n",
    "        self.W_key   = nn.Linear(d_in, d_out, bias=qkv_bias)\n",
    "        self.W_value = nn.Linear(d_in, d_out, bias=qkv_bias)\n",
    "\n",
    "    def forward(self, x):\n",
    "        keys = self.W_key(x)\n",
    "        queries = self.W_query(x)\n",
    "        values = self.W_value(x)\n",
    "        \n",
    "        attn_scores = queries @ keys.T\n",
    "        attn_weights = torch.softmax(attn_scores / keys.shape[-1]**0.5, dim=-1)\n",
    "\n",
    "        context_vec = attn_weights @ values\n",
    "        return context_vec\n",
    "\n",
    "torch.manual_seed(789)\n",
    "sa_v2 = SelfAttention_v2(d_in, d_out)\n",
    "print(sa_v2(inputs))"
   ]
  },
  {
   "cell_type": "markdown",
   "id": "463cc184",
   "metadata": {},
   "source": [
    "- 这两种方法得到的输出不同：使用了不同的初始化权重的方法"
   ]
  },
  {
   "cell_type": "markdown",
   "id": "1521abf9",
   "metadata": {},
   "source": [
    "## 3.5 使用Causal Attention隐藏未来单词\n",
    "\n",
    "- 对角线以上的注意力权重会被屏蔽（mask），从而确保在计算当前输入的上下文向量时，模型不会使用到未来的 token。\n",
    "<img src=\"https://sebastianraschka.com/images/LLMs-from-scratch-images/ch03_compressed/19.webp\" width=\"400px\">\n",
    "\n",
    "### 3.5.1 应用casual attention mask（因果注意力掩码）\n",
    "- 在本节中，我们将把前面的自注意力机制转换为因果自注意力机制。因果自注意力机制确保模型在预测序列中某个位置的输出时，仅依赖于之前位置的已知输出，而不会受到未来位置的影响。换句话说，这确保了**每个新单词的预测只依赖于前面的单词。**\n",
    "- 为此，对于给定的每个 token，我们会屏蔽掉未来的 token（即在输入文本中位于当前 token 之后的 token）。\n",
    "\n",
    "<img src=\"https://sebastianraschka.com/images/LLMs-from-scratch-images/ch03_compressed/20.webp\" width=\"600px\">"
   ]
  },
  {
   "cell_type": "code",
   "execution_count": 25,
   "id": "59e4fe91",
   "metadata": {},
   "outputs": [
    {
     "name": "stdout",
     "output_type": "stream",
     "text": [
      "tensor([[0.1921, 0.1646, 0.1652, 0.1550, 0.1721, 0.1510],\n",
      "        [0.2041, 0.1659, 0.1662, 0.1496, 0.1665, 0.1477],\n",
      "        [0.2036, 0.1659, 0.1662, 0.1498, 0.1664, 0.1480],\n",
      "        [0.1869, 0.1667, 0.1668, 0.1571, 0.1661, 0.1564],\n",
      "        [0.1830, 0.1669, 0.1670, 0.1588, 0.1658, 0.1585],\n",
      "        [0.1935, 0.1663, 0.1666, 0.1542, 0.1666, 0.1529]],\n",
      "       grad_fn=<SoftmaxBackward0>)\n"
     ]
    }
   ],
   "source": [
    "# Reuse the query and key weight matrices of the\n",
    "# SelfAttention_v2 object from the previous section for convenience\n",
    "queries = sa_v2.W_query(inputs)\n",
    "keys = sa_v2.W_key(inputs) \n",
    "attn_scores = queries @ keys.T\n",
    "\n",
    "attn_weights = torch.softmax(attn_scores / keys.shape[-1]**0.5, dim=-1)\n",
    "print(attn_weights)"
   ]
  },
  {
   "cell_type": "markdown",
   "id": "4d24a0c0",
   "metadata": {},
   "source": [
    "- 为了实现因果自注意力，我们可以使用 PyTorch 的 tril 函数来创建一个掩码矩阵，该矩阵的对角线及以下元素为 1，对角线以上的元素为 0。"
   ]
  },
  {
   "cell_type": "code",
   "execution_count": 26,
   "id": "20edff84",
   "metadata": {},
   "outputs": [
    {
     "name": "stdout",
     "output_type": "stream",
     "text": [
      "tensor([[1., 0., 0., 0., 0., 0.],\n",
      "        [1., 1., 0., 0., 0., 0.],\n",
      "        [1., 1., 1., 0., 0., 0.],\n",
      "        [1., 1., 1., 1., 0., 0.],\n",
      "        [1., 1., 1., 1., 1., 0.],\n",
      "        [1., 1., 1., 1., 1., 1.]])\n"
     ]
    }
   ],
   "source": [
    "# 获取上下文的长度（输入序列的长度或token数量） =注意力得分矩阵的大小\n",
    "context_length = attn_scores.shape[0]\n",
    "\n",
    "# 使用 tril 函数创建掩码矩阵\n",
    "mask_simple = torch.tril(torch.ones(context_length, context_length))\n",
    "\n",
    "# 打印掩码矩阵\n",
    "print(mask_simple)"
   ]
  },
  {
   "cell_type": "markdown",
   "id": "82c846f8",
   "metadata": {},
   "source": [
    "- 将注意力权重乘以掩码，屏蔽对角线以上的部分"
   ]
  },
  {
   "cell_type": "code",
   "execution_count": 28,
   "id": "13a98ee1",
   "metadata": {},
   "outputs": [
    {
     "name": "stdout",
     "output_type": "stream",
     "text": [
      "tensor([[0.1921, 0.0000, 0.0000, 0.0000, 0.0000, 0.0000],\n",
      "        [0.2041, 0.1659, 0.0000, 0.0000, 0.0000, 0.0000],\n",
      "        [0.2036, 0.1659, 0.1662, 0.0000, 0.0000, 0.0000],\n",
      "        [0.1869, 0.1667, 0.1668, 0.1571, 0.0000, 0.0000],\n",
      "        [0.1830, 0.1669, 0.1670, 0.1588, 0.1658, 0.0000],\n",
      "        [0.1935, 0.1663, 0.1666, 0.1542, 0.1666, 0.1529]],\n",
      "       grad_fn=<MulBackward0>)\n"
     ]
    }
   ],
   "source": [
    "masked_simple = attn_weights*mask_simple  #注意力权重*初始的掩码\n",
    "print(masked_simple)"
   ]
  },
  {
   "cell_type": "markdown",
   "id": "4f04b228",
   "metadata": {},
   "source": [
    "- 如果在 softmax 之后应用掩码操作，会破坏 softmax 创建的概率分布，因为 softmax 的结果应该总和为 1。掩码会改变这一分布，需要重新归一化，可能会导致计算复杂度增加并产生非预期的效果。\n",
    "- 下面来归一化注意力权重"
   ]
  },
  {
   "cell_type": "code",
   "execution_count": 29,
   "id": "884ca629",
   "metadata": {},
   "outputs": [
    {
     "name": "stdout",
     "output_type": "stream",
     "text": [
      "tensor([[1.0000, 0.0000, 0.0000, 0.0000, 0.0000, 0.0000],\n",
      "        [0.5517, 0.4483, 0.0000, 0.0000, 0.0000, 0.0000],\n",
      "        [0.3800, 0.3097, 0.3103, 0.0000, 0.0000, 0.0000],\n",
      "        [0.2758, 0.2460, 0.2462, 0.2319, 0.0000, 0.0000],\n",
      "        [0.2175, 0.1983, 0.1984, 0.1888, 0.1971, 0.0000],\n",
      "        [0.1935, 0.1663, 0.1666, 0.1542, 0.1666, 0.1529]],\n",
      "       grad_fn=<DivBackward0>)\n"
     ]
    }
   ],
   "source": [
    "#对每一行求和，得到各行总和\n",
    "row_sums = masked_simple.sum(dim=-1, keepdim=True)\n",
    "masked_simple_norm = masked_simple / row_sums\n",
    "print(masked_simple_norm)"
   ]
  },
  {
   "cell_type": "markdown",
   "id": "70a29d77",
   "metadata": {},
   "source": [
    "- 优化方法：对attention score应用掩码mask，对角线以上设为负无穷，然后再归一化\n",
    "<img src=\"https://sebastianraschka.com/images/LLMs-from-scratch-images/ch03_compressed/21.webp\" width=\"450px\">"
   ]
  },
  {
   "cell_type": "code",
   "execution_count": 30,
   "id": "a0cda4e1",
   "metadata": {},
   "outputs": [
    {
     "name": "stdout",
     "output_type": "stream",
     "text": [
      "tensor([[0.2899,   -inf,   -inf,   -inf,   -inf,   -inf],\n",
      "        [0.4656, 0.1723,   -inf,   -inf,   -inf,   -inf],\n",
      "        [0.4594, 0.1703, 0.1731,   -inf,   -inf,   -inf],\n",
      "        [0.2642, 0.1024, 0.1036, 0.0186,   -inf,   -inf],\n",
      "        [0.2183, 0.0874, 0.0882, 0.0177, 0.0786,   -inf],\n",
      "        [0.3408, 0.1270, 0.1290, 0.0198, 0.1290, 0.0078]],\n",
      "       grad_fn=<MaskedFillBackward0>)\n"
     ]
    }
   ],
   "source": [
    "#创建上三角矩阵掩码 mask，仅保留对角线及以下元素。\n",
    "mask = torch.triu(torch.ones(context_length, context_length), diagonal=1)\n",
    "#使用 masked_fill 函数将 attn_scores 中对应 mask 为 True 的元素替换为 -inf，确保对角线以上的元素在 softmax 计算中被忽略。\n",
    "masked = attn_scores.masked_fill(mask.bool(), -torch.inf)\n",
    "print(masked)"
   ]
  },
  {
   "cell_type": "code",
   "execution_count": 31,
   "id": "631466af",
   "metadata": {},
   "outputs": [
    {
     "name": "stdout",
     "output_type": "stream",
     "text": [
      "tensor([[1.0000, 0.0000, 0.0000, 0.0000, 0.0000, 0.0000],\n",
      "        [0.5517, 0.4483, 0.0000, 0.0000, 0.0000, 0.0000],\n",
      "        [0.3800, 0.3097, 0.3103, 0.0000, 0.0000, 0.0000],\n",
      "        [0.2758, 0.2460, 0.2462, 0.2319, 0.0000, 0.0000],\n",
      "        [0.2175, 0.1983, 0.1984, 0.1888, 0.1971, 0.0000],\n",
      "        [0.1935, 0.1663, 0.1666, 0.1542, 0.1666, 0.1529]],\n",
      "       grad_fn=<SoftmaxBackward0>)\n"
     ]
    }
   ],
   "source": [
    "#归一化\n",
    "attn_weights = torch.softmax(masked / keys.shape[-1]**0.5, dim=-1)\n",
    "print(attn_weights)"
   ]
  },
  {
   "cell_type": "markdown",
   "id": "f69c9d1b",
   "metadata": {},
   "source": [
    "### 3.5.2 用 Dropout 屏蔽额外的注意力权重\n",
    "\n",
    "- 在训练过程中，我们还可以应用 Dropout 以减少过拟合。\n",
    "- 可以在多个位置应用 Dropout：\n",
    "    - 比如，在计算注意力权重后，或在将注意力权重与值向量相乘之后（计算上下文向量）。\n",
    "    - 在这里，我们将在计算注意力权重后应用 Dropout，因为这种做法更为常见。\n",
    "- 在本例中，我们使用 50% 的 Dropout 率，这意味着随机屏蔽掉一半的注意力权重（在训练 GPT 模型时，我们通常使用较低的 Dropout 率，如 0.1 或 0.2）。\n",
    "\n",
    "<img src=\"https://sebastianraschka.com/images/LLMs-from-scratch-images/ch03_compressed/22.webp\" width=\"400px\">\n",
    "\n",
    "- 如果应用 50% 的 Dropout 率：non-dropped values（非屏蔽值）会按比例缩放 1/0.5 = 2 倍。"
   ]
  },
  {
   "cell_type": "code",
   "execution_count": 32,
   "id": "54b69c51",
   "metadata": {},
   "outputs": [
    {
     "name": "stdout",
     "output_type": "stream",
     "text": [
      "tensor([[2., 2., 2., 2., 2., 2.],\n",
      "        [0., 2., 0., 0., 0., 0.],\n",
      "        [0., 0., 2., 0., 2., 0.],\n",
      "        [2., 2., 0., 0., 0., 2.],\n",
      "        [2., 0., 0., 0., 0., 2.],\n",
      "        [0., 2., 0., 0., 0., 0.]])\n"
     ]
    }
   ],
   "source": [
    "# 设置随机种子，确保 Dropout 结果可重复。\n",
    "torch.manual_seed(123)\n",
    "dropout = torch.nn.Dropout(0.5)  # 设置 50% 的 Dropout 率\n",
    "example = torch.ones(6, 6)  # 创建一个 6x6 的全为 1 的矩阵\n",
    "\n",
    "print(dropout(example))  # 应用 Dropout 并打印结果"
   ]
  },
  {
   "cell_type": "code",
   "execution_count": 33,
   "id": "a9ca558e",
   "metadata": {},
   "outputs": [
    {
     "name": "stdout",
     "output_type": "stream",
     "text": [
      "tensor([[2.0000, 0.0000, 0.0000, 0.0000, 0.0000, 0.0000],\n",
      "        [0.0000, 0.8966, 0.0000, 0.0000, 0.0000, 0.0000],\n",
      "        [0.0000, 0.0000, 0.6206, 0.0000, 0.0000, 0.0000],\n",
      "        [0.5517, 0.4921, 0.0000, 0.0000, 0.0000, 0.0000],\n",
      "        [0.4350, 0.0000, 0.0000, 0.0000, 0.0000, 0.0000],\n",
      "        [0.0000, 0.3327, 0.0000, 0.0000, 0.0000, 0.0000]],\n",
      "       grad_fn=<MulBackward0>)\n"
     ]
    }
   ],
   "source": [
    "torch.manual_seed(123)\n",
    "print(dropout(attn_weights)) #在注意力权重 attn_weights 上应用相同的 Dropout 并打印结果。"
   ]
  },
  {
   "cell_type": "markdown",
   "id": "ce93869b",
   "metadata": {},
   "source": [
    "### 3.5.3 实现紧凑的因果自注意力类causal self-attention class\n",
    "\n",
    "- 为支持批处理输入，我们将代码扩展，使 CausalAttention 类支持data loader产生的 batch outputs。为了模拟批处理输入，我们将输入用例翻倍："
   ]
  },
  {
   "cell_type": "code",
   "execution_count": 34,
   "id": "5cba721e",
   "metadata": {},
   "outputs": [
    {
     "name": "stdout",
     "output_type": "stream",
     "text": [
      "torch.Size([2, 6, 3])\n"
     ]
    }
   ],
   "source": [
    "batch = torch.stack((inputs, inputs), dim=0)\n",
    "print(batch.shape) # 2 inputs with 6 tokens each, and each token has embedding dimension 3"
   ]
  },
  {
   "cell_type": "code",
   "execution_count": 35,
   "id": "3e242373",
   "metadata": {},
   "outputs": [
    {
     "name": "stdout",
     "output_type": "stream",
     "text": [
      "tensor([[[-0.4519,  0.2216],\n",
      "         [-0.5874,  0.0058],\n",
      "         [-0.6300, -0.0632],\n",
      "         [-0.5675, -0.0843],\n",
      "         [-0.5526, -0.0981],\n",
      "         [-0.5299, -0.1081]],\n",
      "\n",
      "        [[-0.4519,  0.2216],\n",
      "         [-0.5874,  0.0058],\n",
      "         [-0.6300, -0.0632],\n",
      "         [-0.5675, -0.0843],\n",
      "         [-0.5526, -0.0981],\n",
      "         [-0.5299, -0.1081]]], grad_fn=<UnsafeViewBackward0>)\n",
      "context_vecs.shape: torch.Size([2, 6, 2])\n"
     ]
    }
   ],
   "source": [
    "class CausalAttention(nn.Module):  #继承\n",
    "\n",
    "    def __init__(self, d_in, d_out, context_length,\n",
    "                 dropout, qkv_bias=False):\n",
    "        super().__init__()    #使用父类的初始化\n",
    "        self.d_out = d_out\n",
    "        self.W_query = nn.Linear(d_in, d_out, bias=qkv_bias)\n",
    "        self.W_key   = nn.Linear(d_in, d_out, bias=qkv_bias)\n",
    "        self.W_value = nn.Linear(d_in, d_out, bias=qkv_bias)\n",
    "        self.dropout = nn.Dropout(dropout) # 新增dropout\n",
    "        # 注册一个掩码缓冲区用于因果注意力\n",
    "        #创建并注册一个因果掩码，将对角线以上的元素设为 1，用于屏蔽未来 token。\n",
    "        self.register_buffer('mask', torch.triu(torch.ones(context_length, context_length), diagonal=1)) \n",
    "\n",
    "    def forward(self, x):\n",
    "        #获取batch dimension批大小 b，token数量，输入维度\n",
    "        b, num_tokens, d_in = x.shape \n",
    "        keys = self.W_key(x) # 计算键向量\n",
    "        queries = self.W_query(x) # 计算查询向量\n",
    "        values = self.W_value(x)  # 计算值向量\n",
    "\n",
    "         # 计算注意力得分\n",
    "        #eys.transpose(1, 2)改变键值的形状 [batch_size, num_tokens, d_out]变为[batch_size, d_out, num_tokens].\n",
    "        attn_scores = queries @ keys.transpose(1, 2) # Changed transpose（转置）\n",
    "        #应用掩码，将对角线以上的注意力得分设为负无穷，以防止使用未来的 token。\n",
    "        attn_scores.masked_fill_(  # New, _ ops are in-place\n",
    "             # `:num_tokens` 计数 cases where batch中的token数量 小于 supported context_size\n",
    "            self.mask.bool()[:num_tokens, :num_tokens], -torch.inf) \n",
    "        \n",
    "        #先mask再归一化\n",
    "        attn_weights = torch.softmax(\n",
    "            attn_scores / keys.shape[-1]**0.5, dim=-1\n",
    "        )\n",
    "        \n",
    "        # 在注意力权重上应用 Dropout\n",
    "        attn_weights = self.dropout(attn_weights) # New\n",
    "\n",
    "        context_vec = attn_weights @ values # 计算上下文向量\n",
    "        return context_vec\n",
    "\n",
    "torch.manual_seed(123)\n",
    "\n",
    "context_length = batch.shape[1]   # 获取上下文长度\n",
    "ca = CausalAttention(d_in, d_out, context_length, 0.0)  # 实例化 CausalAttention\n",
    "\n",
    "context_vecs = ca(batch)\n",
    "\n",
    "print(context_vecs)\n",
    "print(\"context_vecs.shape:\", context_vecs.shape)"
   ]
  },
  {
   "cell_type": "markdown",
   "id": "e7217ce7",
   "metadata": {},
   "source": [
    "\n",
    "- dropout只用于训练，不用于推理\n",
    "<img src=\"https://sebastianraschka.com/images/LLMs-from-scratch-images/ch03_compressed/23.webp\" width=\"500px\">"
   ]
  },
  {
   "cell_type": "markdown",
   "id": "207a6e14",
   "metadata": {},
   "source": [
    "## 3.6 将single-head attention扩展到multi-head attention\n",
    "\n",
    "### 3.6.1 堆叠多个单头注意力层\n",
    "\n",
    "- 以下是前面实现的自注意力机制的总结（为简化起见，省略了因果和 Dropout 掩码）。这种实现被称为单头注意力。\n",
    "<img src=\"https://sebastianraschka.com/images/LLMs-from-scratch-images/ch03_compressed/24.webp\" width=\"400px\">\n",
    "\n",
    "- stack 多个single-head attention 可以得到multi-head attention\n",
    "<img src=\"https://sebastianraschka.com/images/LLMs-from-scratch-images/ch03_compressed/25.webp\" width=\"400px\">\n",
    "\n",
    "- 多头注意力的核心思想是让**注意力机制并行运行多次 在不同的学习过的线性投影上**。这样可以让模型在不同的位置上同时关注来自不同表示子空间的信息。"
   ]
  },
  {
   "cell_type": "code",
   "execution_count": 36,
   "id": "b8d48062",
   "metadata": {
    "scrolled": true
   },
   "outputs": [
    {
     "name": "stdout",
     "output_type": "stream",
     "text": [
      "tensor([[[-0.4519,  0.2216,  0.4772,  0.1063],\n",
      "         [-0.5874,  0.0058,  0.5891,  0.3257],\n",
      "         [-0.6300, -0.0632,  0.6202,  0.3860],\n",
      "         [-0.5675, -0.0843,  0.5478,  0.3589],\n",
      "         [-0.5526, -0.0981,  0.5321,  0.3428],\n",
      "         [-0.5299, -0.1081,  0.5077,  0.3493]],\n",
      "\n",
      "        [[-0.4519,  0.2216,  0.4772,  0.1063],\n",
      "         [-0.5874,  0.0058,  0.5891,  0.3257],\n",
      "         [-0.6300, -0.0632,  0.6202,  0.3860],\n",
      "         [-0.5675, -0.0843,  0.5478,  0.3589],\n",
      "         [-0.5526, -0.0981,  0.5321,  0.3428],\n",
      "         [-0.5299, -0.1081,  0.5077,  0.3493]]], grad_fn=<CatBackward0>)\n",
      "context_vecs.shape: torch.Size([2, 6, 4])\n"
     ]
    }
   ],
   "source": [
    "class MultiHeadAttentionWrapper(nn.Module):\n",
    "\n",
    "    #初始化：输入输出维度、上下文长度、            Dropout概率  注意力头数    是否使用偏置\n",
    "    def __init__(self, d_in, d_out, context_length, dropout, num_heads, qkv_bias=False):\n",
    "        super().__init__()          # 调用父类的初始化方法\n",
    "        # 使用 `ModuleList` 创建一个包含多个注意力头的列表，每个头都是一个 `CausalAttention` 实例\n",
    "        # `CausalAttention` 是单头的因果注意力机制\n",
    "        self.heads = nn.ModuleList(\n",
    "            [CausalAttention(d_in, d_out, context_length, dropout, qkv_bias) \n",
    "             for _ in range(num_heads)]\n",
    "        )\n",
    "\n",
    "    def forward(self, x):\n",
    "         # 对每个注意力头调用 `head(x)`，计算其上下文向量，并沿着最后一个维度拼接结果\n",
    "        # `torch.cat` 将每个头的输出组合为一个更大的张量\n",
    "        return torch.cat([head(x) for head in self.heads], dim=-1)\n",
    "\n",
    "# 设置随机种子以确保结果可重复\n",
    "torch.manual_seed(123)\n",
    "\n",
    "# 获取上下文长度（每个序列 token 数量）=输入张量 batch 的第一个维度大小\n",
    "context_length = batch.shape[1] # This is the number of tokens\n",
    "d_in, d_out = 3, 2\n",
    "\n",
    "\n",
    "# 创建 `MultiHeadAttentionWrapper` 实例 `mha`，指定2个注意力头\n",
    "mha = MultiHeadAttentionWrapper(\n",
    "    d_in, d_out, context_length, 0.0, num_heads=2\n",
    ")\n",
    "\n",
    "# 通过多头注意力包装器计算上下文向量\n",
    "context_vecs = mha(batch)\n",
    "\n",
    "print(context_vecs)\n",
    "print(\"context_vecs.shape:\", context_vecs.shape)"
   ]
  },
  {
   "cell_type": "markdown",
   "id": "a9f09f51",
   "metadata": {},
   "source": [
    "- 上面的embedding嵌入维度=4，因为 d_out=2 是key、query、value、context vector的维度，有2个attention heads，输出维度是2*2=4"
   ]
  },
  {
   "cell_type": "markdown",
   "id": "08fe818b",
   "metadata": {},
   "source": [
    "### 3.6.2 使用权重拆分实现多头注意力\n",
    "\n",
    "- 虽然以上实现是一个直观且完整的多头注意力机制实现（通过包装单头注意力的CausalAttention 实现），我们可以编写一个独立的 MultiHeadAttention 类来实现相同的功能。\n",
    "- 在这个独立的 MultiHeadAttention 类中，我们不将单个注意力头进行串联，而是：\n",
    "    - 创建一个单独的 W_query、W_key 和 W_value 权重矩阵。\n",
    "    - 然后将这些权重矩阵划分成每个注意力头的单独矩阵。"
   ]
  },
  {
   "cell_type": "code",
   "execution_count": 37,
   "id": "39937ec8",
   "metadata": {},
   "outputs": [
    {
     "name": "stdout",
     "output_type": "stream",
     "text": [
      "tensor([[[0.3190, 0.4858],\n",
      "         [0.2943, 0.3897],\n",
      "         [0.2856, 0.3593],\n",
      "         [0.2693, 0.3873],\n",
      "         [0.2639, 0.3928],\n",
      "         [0.2575, 0.4028]],\n",
      "\n",
      "        [[0.3190, 0.4858],\n",
      "         [0.2943, 0.3897],\n",
      "         [0.2856, 0.3593],\n",
      "         [0.2693, 0.3873],\n",
      "         [0.2639, 0.3928],\n",
      "         [0.2575, 0.4028]]], grad_fn=<ViewBackward0>)\n",
      "context_vecs.shape: torch.Size([2, 6, 2])\n"
     ]
    }
   ],
   "source": [
    "class MultiHeadAttention(nn.Module):\n",
    "    def __init__(self, d_in, d_out, context_length, dropout, num_heads, qkv_bias=False):\n",
    "        super().__init__()\n",
    "        # 确保输出维度 d_out 可以被头的数量整除\n",
    "        assert (d_out % num_heads == 0), \\\n",
    "            \"d_out must be divisible by num_heads\"\n",
    "\n",
    "        self.d_out = d_out\n",
    "        self.num_heads = num_heads\n",
    "        # 计算每个头的维度，通过将 d_out 分割成 num_heads 份\n",
    "        self.head_dim = d_out // num_heads # Reduce the projection dim to match desired output dim\n",
    "\n",
    "        self.W_query = nn.Linear(d_in, d_out, bias=qkv_bias)\n",
    "        self.W_key = nn.Linear(d_in, d_out, bias=qkv_bias)\n",
    "        self.W_value = nn.Linear(d_in, d_out, bias=qkv_bias)\n",
    "         # 用于合并头部输出的线性投影层\n",
    "        self.out_proj = nn.Linear(d_out, d_out)  # Linear layer to combine head outputs\n",
    "        # 定义 dropout 层以减少过拟合\n",
    "        self.dropout = nn.Dropout(dropout)\n",
    "        # 注册一个掩码缓冲区，设置为上三角矩阵，屏蔽未来 tokens\n",
    "        self.register_buffer(\n",
    "            \"mask\",\n",
    "            torch.triu(torch.ones(context_length, context_length),\n",
    "                       diagonal=1)\n",
    "        )\n",
    "\n",
    "    def forward(self, x):\n",
    "        # 获取批次大小、token 数量和输入维度\n",
    "        b, num_tokens, d_in = x.shape\n",
    "\n",
    "        keys = self.W_key(x) # Shape: (b, num_tokens, d_out)\n",
    "        queries = self.W_query(x)\n",
    "        values = self.W_value(x)\n",
    "\n",
    "        # 将每个注意力头拆分出来，添加 `num_heads` 维度\n",
    "        # Unroll last dim: (b, num_tokens, d_out) -> (b, num_tokens, num_heads, head_dim)\n",
    "        keys = keys.view(b, num_tokens, self.num_heads, self.head_dim) \n",
    "        values = values.view(b, num_tokens, self.num_heads, self.head_dim)\n",
    "        queries = queries.view(b, num_tokens, self.num_heads, self.head_dim)\n",
    "\n",
    "         # 转置以方便后续计算，使每个注意力头的计算独立\n",
    "        # Transpose: (b, num_tokens, num_heads, head_dim) -> (b, num_heads, num_tokens, head_dim)\n",
    "        keys = keys.transpose(1, 2)\n",
    "        queries = queries.transpose(1, 2)\n",
    "        values = values.transpose(1, 2)\n",
    "\n",
    "        # 计算 scaled dot-product attention (self-attention) 应用因果掩码\n",
    "        attn_scores = queries @ keys.transpose(2, 3)  # Dot product for each head\n",
    "\n",
    "        # 将掩码转换为布尔类型，适配当前 token 数量\n",
    "        mask_bool = self.mask.bool()[:num_tokens, :num_tokens]\n",
    "\n",
    "        # 使用掩码填充注意力分数，对角线以上的分数设置为负无穷\n",
    "        attn_scores.masked_fill_(mask_bool, -torch.inf)\n",
    "        \n",
    "        attn_weights = torch.softmax(attn_scores / keys.shape[-1]**0.5, dim=-1)\n",
    "         # 应用 dropout 防止过拟合\n",
    "        attn_weights = self.dropout(attn_weights)\n",
    "\n",
    "        # Shape: (b, num_tokens, num_heads, head_dim)\n",
    "        context_vec = (attn_weights @ values).transpose(1, 2) \n",
    "        \n",
    "        #合并头部, where self.d_out = self.num_heads * self.head_dim\n",
    "        context_vec = context_vec.contiguous().view(b, num_tokens, self.d_out)\n",
    "        # 应用投影层，返回上下文向量\n",
    "        context_vec = self.out_proj(context_vec) # optional projection\n",
    "\n",
    "        return context_vec\n",
    "\n",
    "    \n",
    "# 设置随机种子以确保结果可重复\n",
    "torch.manual_seed(123)\n",
    "\n",
    "batch_size, context_length, d_in = batch.shape\n",
    "d_out = 2\n",
    "\n",
    "# 实例化多头注意力类，设置 2 个头\n",
    "mha = MultiHeadAttention(d_in, d_out, context_length, 0.0, num_heads=2)\n",
    "\n",
    "context_vecs = mha(batch)\n",
    "\n",
    "print(context_vecs)\n",
    "print(\"context_vecs.shape:\", context_vecs.shape)"
   ]
  },
  {
   "cell_type": "markdown",
   "id": "13dd3b43",
   "metadata": {},
   "source": [
    "- MultiHeadAttentionWrapper 的重写版本，更高效\n",
    "- 生成的输出会略有不同，因为随机初始化的权重不同，但这两种实现都可以完全正常使用，且可以在后续章节实现的 GPT 类中使用。\n",
    "- 此外，在上面的 MultiHeadAttention 类中，我们添加了一个线性投影层（self.out_proj）。这只是一个不会改变维度的线性变换。在大型语言模型（LLM）实现中使用这样的投影层是一种常见的惯例，但它并非绝对必要（近期研究表明，去掉这个层不会影响建模性能，详见本章末尾的进一步阅读部分）。\n",
    "<img src=\"https://sebastianraschka.com/images/LLMs-from-scratch-images/ch03_compressed/26.webp\" width=\"400px\">\n",
    "\n",
    "- 如果你对更紧凑且高效的实现感兴趣，可以考虑使用 PyTorch 中的 torch.nn.MultiheadAttention 类。\n",
    "- 尽管上述实现可能在初看时有些复杂，但我们可以看看执行 attn_scores = queries @ keys.transpose(2, 3) 时发生了什么情况。"
   ]
  },
  {
   "cell_type": "code",
   "execution_count": 38,
   "id": "5adb4e98",
   "metadata": {},
   "outputs": [
    {
     "name": "stdout",
     "output_type": "stream",
     "text": [
      "tensor([[[[1.3208, 1.1631, 1.2879],\n",
      "          [1.1631, 2.2150, 1.8424],\n",
      "          [1.2879, 1.8424, 2.0402]],\n",
      "\n",
      "         [[0.4391, 0.7003, 0.5903],\n",
      "          [0.7003, 1.3737, 1.0620],\n",
      "          [0.5903, 1.0620, 0.9912]]]])\n"
     ]
    }
   ],
   "source": [
    "# (b, num_heads, num_tokens, head_dim) = (1, 2, 3, 4)\n",
    "a = torch.tensor([[[[0.2745, 0.6584, 0.2775, 0.8573],\n",
    "                    [0.8993, 0.0390, 0.9268, 0.7388],\n",
    "                    [0.7179, 0.7058, 0.9156, 0.4340]],\n",
    "\n",
    "                   [[0.0772, 0.3565, 0.1479, 0.5331],\n",
    "                    [0.4066, 0.2318, 0.4545, 0.9737],\n",
    "                    [0.4606, 0.5159, 0.4220, 0.5786]]]])\n",
    "\n",
    "#将 a 的最后两个维度 num_tokens 和 head_dim 转置，使其从 (1, 2, 3, 4) 变为 (1, 2, 4, 3)，这样便可以将 num_tokens 维度的每个 token 进行点积。\n",
    "print(a @ a.transpose(2, 3))"
   ]
  },
  {
   "cell_type": "markdown",
   "id": "1da1c754",
   "metadata": {},
   "source": [
    "- 在这种情况下，PyTorch 的矩阵乘法实现将处理四维输入张量，矩阵乘法会在最后两个维度（num_tokens 和 head_dim）之间进行，并为每个注意力头重复该过程。\n",
    "- 例如，以下方法提供了一种更简洁的方式来分别计算每个注意力头的矩阵乘法。"
   ]
  },
  {
   "cell_type": "code",
   "execution_count": 39,
   "id": "eaff64d2",
   "metadata": {},
   "outputs": [
    {
     "name": "stdout",
     "output_type": "stream",
     "text": [
      "First head:\n",
      " tensor([[1.3208, 1.1631, 1.2879],\n",
      "        [1.1631, 2.2150, 1.8424],\n",
      "        [1.2879, 1.8424, 2.0402]])\n",
      "\n",
      "Second head:\n",
      " tensor([[0.4391, 0.7003, 0.5903],\n",
      "        [0.7003, 1.3737, 1.0620],\n",
      "        [0.5903, 1.0620, 0.9912]])\n"
     ]
    }
   ],
   "source": [
    "first_head = a[0, 0, :, :]\n",
    "first_res = first_head @ first_head.T\n",
    "print(\"First head:\\n\", first_res)\n",
    "\n",
    "second_head = a[0, 1, :, :]\n",
    "second_res = second_head @ second_head.T\n",
    "print(\"\\nSecond head:\\n\", second_res)"
   ]
  },
  {
   "cell_type": "code",
   "execution_count": null,
   "id": "363f46bd",
   "metadata": {},
   "outputs": [],
   "source": []
  }
 ],
 "metadata": {
  "kernelspec": {
   "display_name": "LLMs",
   "language": "python",
   "name": "llms"
  },
  "language_info": {
   "codemirror_mode": {
    "name": "ipython",
    "version": 3
   },
   "file_extension": ".py",
   "mimetype": "text/x-python",
   "name": "python",
   "nbconvert_exporter": "python",
   "pygments_lexer": "ipython3",
   "version": "3.10.15"
  }
 },
 "nbformat": 4,
 "nbformat_minor": 5
}
