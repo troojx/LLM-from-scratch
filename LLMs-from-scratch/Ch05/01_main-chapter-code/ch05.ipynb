{
 "cells": [
  {
   "cell_type": "markdown",
   "id": "e22cea02",
   "metadata": {},
   "source": [
    "# 第五章：在无标签数据上进行预训练\n"
   ]
  },
  {
   "cell_type": "code",
   "execution_count": 1,
   "id": "90dd07e1",
   "metadata": {},
   "outputs": [
    {
     "name": "stdout",
     "output_type": "stream",
     "text": [
      "matplotlib version: 3.9.2\n",
      "numpy version: 1.26.3\n",
      "tiktoken version: 0.8.0\n",
      "torch version: 2.5.1+cu121\n",
      "tensorflow version: 2.18.0\n"
     ]
    }
   ],
   "source": [
    "from importlib.metadata import version\n",
    "\n",
    "pkgs = [\"matplotlib\", \n",
    "        \"numpy\", \n",
    "        \"tiktoken\", \n",
    "        \"torch\",\n",
    "        \"tensorflow\" # For OpenAI's pretrained weights\n",
    "       ]\n",
    "for p in pkgs:\n",
    "    print(f\"{p} version: {version(p)}\")"
   ]
  },
  {
   "cell_type": "markdown",
   "id": "72a6577c",
   "metadata": {},
   "source": [
    "- 在本章中，我们将实现一个训练循环 training loop 以及基本的模型评估代码，以便对大型语言模型（LLM）进行预训练。最后，我们还将从 OpenAI 加载公开的预训练权重并将其导入到我们的模型中。\n",
    "<img src=\"https://sebastianraschka.com/images/LLMs-from-scratch-images/ch05_compressed/chapter-overview.webp\" width=500px>\n",
    "- 下面是这张的主题\n",
    "<img src=\"https://sebastianraschka.com/images/LLMs-from-scratch-images/ch05_compressed/mental-model--0.webp\" width=400px>"
   ]
  },
  {
   "cell_type": "markdown",
   "id": "72e9b9a9",
   "metadata": {},
   "source": [
    "## 5.1 生成式文本模型的评估\n",
    "- 首先，我们简要回顾使用上一章中的代码初始化 GPT 模型。然后，我们讨论用于**评估 LLM 的基本评价指标**，最后将这些指标应用到训练和验证数据集上。\n",
    "\n",
    "### 5.1.1 使用 GPT 生成文本\n",
    "- 我们使用上一章的代码初始化一个 GPT 模型。"
   ]
  },
  {
   "cell_type": "code",
   "execution_count": 2,
   "id": "8e5bc7dd",
   "metadata": {},
   "outputs": [],
   "source": [
    "import torch\n",
    "from previous_chapters import GPTModel\n",
    "\n",
    "GPT_CONFIG_124M = {\n",
    "    \"vocab_size\": 50257,   # Vocabulary size\n",
    "    \"context_length\": 256, # Shortened context length (orig: 1024)\n",
    "    \"emb_dim\": 768,        # Embedding dimension\n",
    "    \"n_heads\": 12,         # Number of attention heads\n",
    "    \"n_layers\": 12,        # Number of layers\n",
    "    \"drop_rate\": 0.1,      # Dropout rate\n",
    "    \"qkv_bias\": False      # Query-key-value bias\n",
    "}\n",
    "\n",
    "torch.manual_seed(123)\n",
    "model = GPTModel(GPT_CONFIG_124M)\n",
    "model.eval();  # Disable dropout during inference"
   ]
  },
  {
   "cell_type": "markdown",
   "id": "6ce8a358",
   "metadata": {},
   "source": [
    "- 这里将 dropout 设置为 0.1，但如今较为常见的是训练 LLM 时不使用 dropout。\n",
    "- 此外，现代 LLM 也不再在 nn.Linear 层中添加偏置向量，特别是用于 query、key 和 value 矩阵时（与早期 GPT 模型不同），可以通过设置 \"qkv_bias\": False 来实现这一点。\n",
    "\n",
    "- 我们将上下文长度 context_length 降至 256 个 token，以降低模型训练的计算资源需求，而原始的 124M 参数 GPT-2 模型使用的是 1024 个 token。这种简化可以让更多读者在笔记本电脑上跟随和运行代码示例。当然，也可以将 context_length 增加到 1024（无需更改代码）。之后，我们还会加载一个具有 1024 个 context_length 的预训练权重模型。\n",
    "\n",
    "- 接下来，我们使用上一章的 generate_text_simple 函数生成文本。此外，我们定义了两个便捷函数 text_to_token_ids 和 token_ids_to_text，用于在 token 表示和文本表示之间进行转换，这两个函数在本章中会被频繁使用。\n",
    "\n",
    "<img src=\"https://sebastianraschka.com/images/LLMs-from-scratch-images/ch05_compressed/gpt-process.webp\" width=500px>"
   ]
  },
  {
   "cell_type": "code",
   "execution_count": 3,
   "id": "775e2e2b",
   "metadata": {},
   "outputs": [
    {
     "name": "stdout",
     "output_type": "stream",
     "text": [
      "Output text:\n",
      " Every effort moves you rentingetic wasnم refres RexMeCHicular stren\n"
     ]
    }
   ],
   "source": [
    "import tiktoken\n",
    "from previous_chapters import generate_text_simple\n",
    "\n",
    "def text_to_token_ids(text, tokenizer):\n",
    "    encoded = tokenizer.encode(text, allowed_special={'<|endoftext|>'})\n",
    "    encoded_tensor = torch.tensor(encoded).unsqueeze(0) # add batch dimension\n",
    "    return encoded_tensor\n",
    "\n",
    "def token_ids_to_text(token_ids, tokenizer):\n",
    "    flat = token_ids.squeeze(0) # remove batch dimension\n",
    "    return tokenizer.decode(flat.tolist())\n",
    "\n",
    "start_context = \"Every effort moves you\"\n",
    "tokenizer = tiktoken.get_encoding(\"gpt2\")\n",
    "\n",
    "token_ids = generate_text_simple(  #生成新文本\n",
    "    model=model,\n",
    "    idx=text_to_token_ids(start_context, tokenizer),\n",
    "    max_new_tokens=10,\n",
    "    context_size=GPT_CONFIG_124M[\"context_length\"]\n",
    ")\n",
    "\n",
    "print(\"Output text:\\n\", token_ids_to_text(token_ids, tokenizer))"
   ]
  },
  {
   "cell_type": "markdown",
   "id": "4b1256c6",
   "metadata": {},
   "source": [
    "- 正如上方输出所见，模型尚未产生良好的文本，因为还未经过训练。\n",
    "- 那么，如何用数值的形式来衡量和捕捉“良好的文本”，以便在训练过程中进行跟踪呢？\n",
    "- 接下来的小节将介绍用于计算生成输出的损失loss指标的度量方式，以帮助我们衡量训练进展。接下来的 LLM 微调章节还会介绍更多方法来衡量模型质量。\n",
    "\n",
    "\n",
    "### 5.1.2 计算文本生成损失：交叉熵cross-entropy和困惑度perplexity\n",
    "- 假设我们有一个 inputs 张量，包含 2 个训练样本（行）的 token ID。\n",
    "- 对应于 inputs，targets 包含了我们希望模型生成的目标 token ID。注意，targets 是 inputs 向右偏移一个位置后的结果，正如第 2 章实现数据加载器时所解释的。"
   ]
  },
  {
   "cell_type": "code",
   "execution_count": 4,
   "id": "2d512769",
   "metadata": {},
   "outputs": [],
   "source": [
    "inputs = torch.tensor([[16833, 3626, 6100],   # [\"every effort moves\",\n",
    "                       [40,    1107, 588]])   #  \"I really like\"]\n",
    "\n",
    "targets = torch.tensor([[3626, 6100, 345  ],  # [\" effort moves you\",\n",
    "                        [1107,  588, 11311]]) #  \" really like chocolate\"]"
   ]
  },
  {
   "cell_type": "markdown",
   "id": "39eb9008",
   "metadata": {},
   "source": [
    "- 将 inputs 输入到模型中，我们得到每个输入样本的 logits 向量，这些向量包含 3 个 token。每个 token 是一个 50,257 维的向量，对应于词汇表的大小。通过应用 softmax 函数，我们可以将 logits 张量转换为同维度的概率分数张量。"
   ]
  },
  {
   "cell_type": "code",
   "execution_count": 5,
   "id": "10e056a7",
   "metadata": {},
   "outputs": [
    {
     "name": "stdout",
     "output_type": "stream",
     "text": [
      "torch.Size([2, 3, 50257])\n"
     ]
    }
   ],
   "source": [
    "#开启了一个上下文管理器，在其中不会计算梯度。用于测试或评估模型，以节省内存和提高推理效率，因为在模型评估时不需要反向传播计算。\n",
    "with torch.no_grad():\n",
    "     # 对输入 `inputs` 进行前向传播，计算每个 token 在词汇表中所有词的分数\n",
    "        #logits 是一个三维张量，表示每个 token 对词汇表中所有词的分数。\n",
    "    logits = model(inputs)   \n",
    "\n",
    "# 对 logits 应用 softmax，将分数转换为概率分布\n",
    "probas = torch.softmax(logits, dim=-1) # Probability of each token in vocabulary\n",
    "# 预计输出的形状为 (batch_size, num_tokens, vocab_size)\n",
    "print(probas.shape) # Shape: (batch_size, num_tokens, vocab_size)"
   ]
  },
  {
   "cell_type": "markdown",
   "id": "287a21ff",
   "metadata": {},
   "source": [
    "- 下图使用一个非常小的词汇表进行示例，展示了如何将概率分数转换回文本，这是上一章结尾讨论的内容。\n",
    "<img src=\"https://sebastianraschka.com/images/LLMs-from-scratch-images/ch05_compressed/proba-to-text.webp\" width=500px>\n",
    "- 正如上一章所述，我们可以应用 argmax 函数，将概率分数转换为预测的 token ID。\n",
    "- 上方的 softmax 函数为每个 token 生成一个 50,257 维向量，而 argmax 函数返回该向量中最高概率分数的位置，这就是给定 token 的预测 token ID。\n",
    "\n",
    "\n",
    "\n",
    "\n",
    "\n",
    "\n"
   ]
  },
  {
   "cell_type": "markdown",
   "id": "fb799eca",
   "metadata": {},
   "source": [
    "- 因为有两个输入batch，每个有3个token，we obtain 2 by 3 predicted token IDs:"
   ]
  },
  {
   "cell_type": "code",
   "execution_count": 6,
   "id": "31c2adff",
   "metadata": {},
   "outputs": [
    {
     "name": "stdout",
     "output_type": "stream",
     "text": [
      "Token IDs:\n",
      " tensor([[[16657],\n",
      "         [  339],\n",
      "         [42826]],\n",
      "\n",
      "        [[49906],\n",
      "         [29669],\n",
      "         [41751]]])\n"
     ]
    }
   ],
   "source": [
    "token_ids = torch.argmax(probas, dim=-1, keepdim=True)\n",
    "print(\"Token IDs:\\n\", token_ids)"
   ]
  },
  {
   "cell_type": "markdown",
   "id": "9b4dbae0",
   "metadata": {},
   "source": [
    "- 如果我们将这些预测的tokens解码，会发现它们与模型应预测的目标tokens有很大差异。例如"
   ]
  },
  {
   "cell_type": "code",
   "execution_count": 7,
   "id": "de730df5",
   "metadata": {},
   "outputs": [
    {
     "name": "stdout",
     "output_type": "stream",
     "text": [
      "Targets batch 1:  effort moves you\n",
      "Outputs batch 1:  Armed heNetflix\n"
     ]
    }
   ],
   "source": [
    "print(f\"Targets batch 1: {token_ids_to_text(targets[0], tokenizer)}\")\n",
    "print(f\"Outputs batch 1: {token_ids_to_text(token_ids[0].flatten(), tokenizer)}\")"
   ]
  },
  {
   "cell_type": "markdown",
   "id": "baaf52be",
   "metadata": {},
   "source": [
    "- 这是因为模型尚未训练。为了训练模型，我们需要了解 how far it is away from the correct predictions (targets)\n",
    "<img src=\"https://sebastianraschka.com/images/LLMs-from-scratch-images/ch05_compressed/proba-index.webp\" width=500px>\n",
    "- token可能性对应着目标index："
   ]
  },
  {
   "cell_type": "code",
   "execution_count": 8,
   "id": "fde15abd",
   "metadata": {},
   "outputs": [
    {
     "name": "stdout",
     "output_type": "stream",
     "text": [
      "Text 1: tensor([7.4541e-05, 3.1061e-05, 1.1563e-05])\n",
      "Text 2: tensor([1.0337e-05, 5.6776e-05, 4.7559e-06])\n"
     ]
    }
   ],
   "source": [
    "text_idx = 0\n",
    "target_probas_1 = probas[text_idx, [0, 1, 2], targets[text_idx]]\n",
    "print(\"Text 1:\", target_probas_1)\n",
    "\n",
    "text_idx = 1\n",
    "target_probas_2 = probas[text_idx, [0, 1, 2], targets[text_idx]]\n",
    "print(\"Text 2:\", target_probas_2)"
   ]
  },
  {
   "cell_type": "markdown",
   "id": "d692fbea",
   "metadata": {},
   "source": [
    "- 接下来，我们关注目标索引对应的tokens概率。目标是将这些概率值尽量增大，尽可能接近1。在数学优化中，通常更容易最大化 **概率分数的对数logarithm of the probability score** ，而不是直接最大化概率。"
   ]
  },
  {
   "cell_type": "code",
   "execution_count": 9,
   "id": "0f81f85b",
   "metadata": {},
   "outputs": [
    {
     "name": "stdout",
     "output_type": "stream",
     "text": [
      "tensor([ -9.5042, -10.3796, -11.3677, -11.4798,  -9.7764, -12.2561])\n"
     ]
    }
   ],
   "source": [
    "# Compute logarithm of all token probabilities\n",
    "log_probas = torch.log(torch.cat((target_probas_1, target_probas_2)))\n",
    "print(log_probas)"
   ]
  },
  {
   "cell_type": "code",
   "execution_count": 10,
   "id": "38bf5f71",
   "metadata": {},
   "outputs": [
    {
     "name": "stdout",
     "output_type": "stream",
     "text": [
      "tensor(-10.7940)\n"
     ]
    }
   ],
   "source": [
    "#计算平均对数概率\n",
    "# Calculate the average probability for each token\n",
    "avg_log_probas = torch.mean(log_probas)\n",
    "print(avg_log_probas)"
   ]
  },
  {
   "cell_type": "markdown",
   "id": "42ed8ab6",
   "metadata": {},
   "source": [
    "- 目标是通过优化模型权重，让average log probability越大越好\n",
    "- 因为取了log，最大的possibility是0，我们目前离0 很远\n"
   ]
  },
  {
   "cell_type": "markdown",
   "id": "2ed49f7b",
   "metadata": {},
   "source": [
    "- 在深度学习中，我们不直接最大化平均对数概率，而是最小化负的平均对数概率。例如，不是最大化-10.7722让他接近0，而是最小化10.7722让他接近0\n",
    "- 在这种情况下，取负后的对数值（如10.7722）被称为**交叉熵损失cross-entropy**。"
   ]
  },
  {
   "cell_type": "code",
   "execution_count": 11,
   "id": "f1cf1004",
   "metadata": {},
   "outputs": [
    {
     "name": "stdout",
     "output_type": "stream",
     "text": [
      "tensor(10.7940)\n"
     ]
    }
   ],
   "source": [
    "neg_avg_log_probas = avg_log_probas * -1   #变成正数\n",
    "print(neg_avg_log_probas)"
   ]
  },
  {
   "cell_type": "markdown",
   "id": "651386c4",
   "metadata": {},
   "source": [
    "- pytorch的`cross_entropy` function可以做前面的步骤\n",
    "<img src=\"https://sebastianraschka.com/images/LLMs-from-scratch-images/ch05_compressed/cross-entropy.webp?123\" width=400px>\n",
    "- 在使用`cross_entropy` function之前，检查logits和targets的形状"
   ]
  },
  {
   "cell_type": "code",
   "execution_count": 12,
   "id": "3483498a",
   "metadata": {},
   "outputs": [
    {
     "name": "stdout",
     "output_type": "stream",
     "text": [
      "Logits shape: torch.Size([2, 3, 50257])\n",
      "Targets shape: torch.Size([2, 3])\n"
     ]
    }
   ],
   "source": [
    "# Logits have shape (batch_size, num_tokens, vocab_size)\n",
    "print(\"Logits shape:\", logits.shape)\n",
    "\n",
    "# Targets have shape (batch_size, num_tokens)\n",
    "print(\"Targets shape:\", targets.shape)"
   ]
  },
  {
   "cell_type": "markdown",
   "id": "d8a53dc0",
   "metadata": {},
   "source": [
    "- For the cross_entropy function in PyTorch, we want to flatten these tensors by combining them over the batch dimension:"
   ]
  },
  {
   "cell_type": "code",
   "execution_count": 13,
   "id": "450448be",
   "metadata": {},
   "outputs": [
    {
     "name": "stdout",
     "output_type": "stream",
     "text": [
      "Flattened logits: torch.Size([6, 50257])\n",
      "Flattened targets: torch.Size([6])\n"
     ]
    }
   ],
   "source": [
    "#如何将 logits 和 targets 张量拉平成适合用于 PyTorch cross_entropy 损失函数的格式\n",
    "\n",
    "#logits 是模型生成的输出张量，其中包含了每个 token 在词汇表中每个单词的分数（未经过 softmax 转换的概率）。\n",
    "#该张量的形状通常为 (batch_size, num_tokens, vocab_size)。\n",
    "#targets 是目标张量，包含了模型期望生成的每个 token 的真实词汇索引，\n",
    "#其形状通常为 (batch_size, num_tokens)。\n",
    "logits_flat = logits.flatten(0, 1)       # 将 logits 的第 0 和 1 维展平\n",
    "targets_flat = targets.flatten()          # 将 targets 展平为 1D 张量\n",
    "\n",
    "print(\"Flattened logits:\", logits_flat.shape)\n",
    "print(\"Flattened targets:\", targets_flat.shape)"
   ]
  },
  {
   "cell_type": "markdown",
   "id": "a96bffb2",
   "metadata": {},
   "source": [
    "- 需要注意的是，目标tokens是指目标的token ID，同时也代表logits张量中需要最大化的索引位置。\n",
    "- PyTorch中的cross_entropy函数会自动处理这些目标索引上进行softmax和对数概率计算的细节。"
   ]
  },
  {
   "cell_type": "code",
   "execution_count": 14,
   "id": "f454ec48",
   "metadata": {},
   "outputs": [
    {
     "name": "stdout",
     "output_type": "stream",
     "text": [
      "tensor(10.7940)\n"
     ]
    }
   ],
   "source": [
    " #                                           使用拉平的向量\n",
    "loss = torch.nn.functional.cross_entropy(logits_flat, targets_flat)\n",
    "print(loss)   #表示当前的模型离目标还有多远"
   ]
  },
  {
   "cell_type": "markdown",
   "id": "39e8ea51",
   "metadata": {},
   "source": [
    "\n",
    "- 与交叉熵损失相关的概念是困惑度（Perplexity）。**Perplexity只是交叉熵损失的指数形式**，被认为更具解释性，它表示模型在每一步不确定的 有效词汇大小 effective vocabulary size that the model is uncertain about at each step（下面的例子中，是48725个单词或tokens）。\n",
    "- 换句话说，perplexity衡量模型预测的概率分布与数据集中实际分布的匹配度。类似于损失值，较低的困惑度表明模型预测更接近真实分布。"
   ]
  },
  {
   "cell_type": "code",
   "execution_count": 15,
   "id": "1e8a1abb",
   "metadata": {},
   "outputs": [
    {
     "name": "stdout",
     "output_type": "stream",
     "text": [
      "tensor(48725.8203)\n"
     ]
    }
   ],
   "source": [
    "perplexity = torch.exp(loss)\n",
    "print(perplexity)"
   ]
  },
  {
   "cell_type": "markdown",
   "id": "c1d4362d",
   "metadata": {},
   "source": [
    "\n",
    "\n",
    "###  5.1.3 计算训练集和验证集的损失training and validation set losses\n",
    "- 在训练LLM时，我们使用了相对较小的数据集（实际上只是一个短篇故事）。这样做的原因包括：\n",
    "    - 在没有GPU的情况下，可以在笔记本电脑上快速运行代码示例。\n",
    "    - 训练时间相对较短（几分钟，而不是数周），适合教育用途。\n",
    "    - 我们使用了公有领域的文本，方便直接包含在GitHub仓库中，而不会侵犯使用权或使仓库体积过大。\n",
    "\n",
    "- 例如，Llama 2 7B模型在A100 GPU上训练2万亿tokens需要184,320 GPU小时，而在AWS上，一个包含8个A100的服务器每小时约30美元。粗略计算，训练此LLM的成本将为184,320 / 8 * $30 = $690,000。"
   ]
  },
  {
   "cell_type": "code",
   "execution_count": 16,
   "id": "ad7d8a81",
   "metadata": {},
   "outputs": [],
   "source": [
    "import os\n",
    "import urllib.request\n",
    "\n",
    "file_path = \"the-verdict.txt\"\n",
    "url = \"https://raw.githubusercontent.com/rasbt/LLMs-from-scratch/main/ch02/01_main-chapter-code/the-verdict.txt\"\n",
    "\n",
    "if not os.path.exists(file_path):\n",
    "    with urllib.request.urlopen(url) as response:\n",
    "        text_data = response.read().decode('utf-8')\n",
    "    with open(file_path, \"w\", encoding=\"utf-8\") as file:\n",
    "        file.write(text_data)\n",
    "else:\n",
    "    with open(file_path, \"r\", encoding=\"utf-8\") as file:\n",
    "        text_data = file.read()"
   ]
  },
  {
   "cell_type": "code",
   "execution_count": 17,
   "id": "b82a779f",
   "metadata": {},
   "outputs": [
    {
     "name": "stdout",
     "output_type": "stream",
     "text": [
      "I HAD always thought Jack Gisburn rather a cheap genius--though a good fellow enough--so it was no \n"
     ]
    }
   ],
   "source": [
    "#检查一下正不正确\n",
    "# First 100 characters\n",
    "print(text_data[:99])"
   ]
  },
  {
   "cell_type": "code",
   "execution_count": 18,
   "id": "67725589",
   "metadata": {},
   "outputs": [
    {
     "name": "stdout",
     "output_type": "stream",
     "text": [
      "it for me! The Strouds stand alone, and happen once--but there's no exterminating our kind of art.\"\n"
     ]
    }
   ],
   "source": [
    "# Last 100 characters\n",
    "print(text_data[-99:])"
   ]
  },
  {
   "cell_type": "code",
   "execution_count": 19,
   "id": "4d8ae997",
   "metadata": {},
   "outputs": [
    {
     "name": "stdout",
     "output_type": "stream",
     "text": [
      "Characters: 20479\n",
      "Tokens: 5145\n"
     ]
    }
   ],
   "source": [
    "total_characters = len(text_data)    #总文本长度\n",
    "total_tokens = len(tokenizer.encode(text_data))    #解码后的token数量\n",
    "\n",
    "print(\"Characters:\", total_characters)\n",
    "print(\"Tokens:\", total_tokens)"
   ]
  },
  {
   "cell_type": "markdown",
   "id": "09430b75",
   "metadata": {},
   "source": [
    "- 由于训练一个大型语言模型 (LLM) 的文本仅有 5,145 个 token，非常短，这只是为了教学目的（稍后我们还会加载预训练的权重）。\n",
    "- 接下来，我们将数据集分为训练集和验证集 training and a validation set ，并使用第 2 章的数据加载器来准备 LLM 训练所需的批次 batches数据。\n",
    "- 为了便于可视化，图中假设了 max_length=6，但在训练加载器中，我们将 max_length 设置为 LLM 所支持的上下文长度。\n",
    "    - 图中仅显示了输入 tokens，为了简化表示。\n",
    "    - 由于我们训练 LLM 去预测文本中的下一个词，因此目标数据与输入数据看起来是相同的，只是目标数据向后偏移了一个位置。\n",
    "<img src=\"https://sebastianraschka.com/images/LLMs-from-scratch-images/ch05_compressed/batching.webp\" width=500px>"
   ]
  },
  {
   "cell_type": "code",
   "execution_count": 20,
   "id": "fd6073dd",
   "metadata": {},
   "outputs": [],
   "source": [
    "from previous_chapters import create_dataloader_v1\n",
    "\n",
    "# Train/validation ratio \n",
    "train_ratio = 0.90  #用90%的文本用于训练，10%用于验证\n",
    "split_idx = int(train_ratio * len(text_data))   #分开training和validation的文本\n",
    "train_data = text_data[:split_idx]\n",
    "val_data = text_data[split_idx:]\n",
    "\n",
    "#保证结果可复现性\n",
    "torch.manual_seed(123)\n",
    "\n",
    "#训练数据集\n",
    "train_loader = create_dataloader_v1(\n",
    "    train_data,\n",
    "    batch_size=2,\n",
    "    max_length=GPT_CONFIG_124M[\"context_length\"],\n",
    "    #滑动窗口的步幅与上下文长度相同。数据加载器在从数据集中抽取样本时会以 context_length 为步幅滑动\n",
    "    stride=GPT_CONFIG_124M[\"context_length\"],\n",
    "    #在分割数据集时丢弃不能完全匹配 batch_size 的最后一个批次，以保证每个批次的大小一致；\n",
    "    drop_last=True,\n",
    "    #随机打乱样本，确保训练数据的随机性；\n",
    "    shuffle=True,\n",
    "    #此处设置为 0 表示在主进程中加载数据，不创建额外的子进程。\n",
    "    num_workers=0\n",
    ")\n",
    "\n",
    "#验证数据集\n",
    "val_loader = create_dataloader_v1(\n",
    "    val_data,\n",
    "    batch_size=2,\n",
    "    max_length=GPT_CONFIG_124M[\"context_length\"],\n",
    "    stride=GPT_CONFIG_124M[\"context_length\"],\n",
    "    drop_last=False,\n",
    "    #确保验证数据按顺序加载，从而更稳定地评估模型。\n",
    "    shuffle=False,\n",
    "    num_workers=0\n",
    ")"
   ]
  },
  {
   "cell_type": "code",
   "execution_count": 21,
   "id": "8ae54209",
   "metadata": {},
   "outputs": [],
   "source": [
    "# Sanity check 检验训练和检验文本的长度是否足够\n",
    "\n",
    "if total_tokens * (train_ratio) < GPT_CONFIG_124M[\"context_length\"]:\n",
    "    print(\"Not enough tokens for the training loader. \"\n",
    "          \"Try to lower the `GPT_CONFIG_124M['context_length']` or \"\n",
    "          \"increase the `training_ratio`\")\n",
    "\n",
    "if total_tokens * (1-train_ratio) < GPT_CONFIG_124M[\"context_length\"]:\n",
    "    print(\"Not enough tokens for the validation loader. \"\n",
    "          \"Try to lower the `GPT_CONFIG_124M['context_length']` or \"\n",
    "          \"decrease the `training_ratio`\")"
   ]
  },
  {
   "cell_type": "markdown",
   "id": "38a2b105",
   "metadata": {},
   "source": [
    "- 我们使用了较小的批次大小，以减少对计算资源的需求，因为数据集本身就很小。\n",
    "- 例如，Llama 2 7B 的训练批次大小为 1024。\n",
    "- 这里可以进行一个可选的检查，以确保数据被正确加载。"
   ]
  },
  {
   "cell_type": "code",
   "execution_count": 22,
   "id": "34101841",
   "metadata": {},
   "outputs": [
    {
     "name": "stdout",
     "output_type": "stream",
     "text": [
      "Train loader:\n",
      "torch.Size([2, 256]) torch.Size([2, 256])\n",
      "torch.Size([2, 256]) torch.Size([2, 256])\n",
      "torch.Size([2, 256]) torch.Size([2, 256])\n",
      "torch.Size([2, 256]) torch.Size([2, 256])\n",
      "torch.Size([2, 256]) torch.Size([2, 256])\n",
      "torch.Size([2, 256]) torch.Size([2, 256])\n",
      "torch.Size([2, 256]) torch.Size([2, 256])\n",
      "torch.Size([2, 256]) torch.Size([2, 256])\n",
      "torch.Size([2, 256]) torch.Size([2, 256])\n",
      "\n",
      "Validation loader:\n",
      "torch.Size([2, 256]) torch.Size([2, 256])\n"
     ]
    }
   ],
   "source": [
    "#可选的检查\n",
    "print(\"Train loader:\")\n",
    "for x, y in train_loader:\n",
    "    print(x.shape, y.shape)\n",
    "\n",
    "print(\"\\nValidation loader:\")\n",
    "for x, y in val_loader:\n",
    "    print(x.shape, y.shape)"
   ]
  },
  {
   "cell_type": "code",
   "execution_count": 23,
   "id": "27650920",
   "metadata": {},
   "outputs": [
    {
     "name": "stdout",
     "output_type": "stream",
     "text": [
      "Training tokens: 4608\n",
      "Validation tokens: 512\n",
      "All tokens: 5120\n"
     ]
    }
   ],
   "source": [
    "# 另一个可选的检查：确保 token 尺寸在预期范围内。\n",
    "\n",
    "train_tokens = 0\n",
    "#遍历 train_loader 中的每个批次，input_batch 是模型的输入 token，target_batch 是对应的目标 token。\n",
    "for input_batch, target_batch in train_loader:\n",
    "    #numel() 是 PyTorch 的一个方法，返回张量中的元素数量，即 input_batch 中所有 token 的总数。\n",
    "    train_tokens += input_batch.numel()\n",
    "\n",
    "val_tokens = 0\n",
    "for input_batch, target_batch in val_loader:\n",
    "    val_tokens += input_batch.numel()\n",
    "\n",
    "print(\"Training tokens:\", train_tokens)\n",
    "print(\"Validation tokens:\", val_tokens)\n",
    "print(\"All tokens:\", train_tokens + val_tokens)"
   ]
  },
  {
   "cell_type": "markdown",
   "id": "aaf27c95",
   "metadata": {},
   "source": [
    "- 接下来，我们实现了一个实用函数来计算给定批次的交叉熵损失cross-entropy loss。\n",
    "- 除此之外，我们还实现了第二个实用函数，用于计算数据加载器中用户指定的批次数的损失。"
   ]
  },
  {
   "cell_type": "code",
   "execution_count": 24,
   "id": "7b4e6cd6",
   "metadata": {},
   "outputs": [],
   "source": [
    "#cross-entropy\n",
    "def calc_loss_batch(input_batch, target_batch, model, device):\n",
    "    input_batch, target_batch = input_batch.to(device), target_batch.to(device)\n",
    "    logits = model(input_batch)\n",
    "    loss = torch.nn.functional.cross_entropy(logits.flatten(0, 1), target_batch.flatten())\n",
    "    return loss\n",
    "\n",
    "# 计算平均损失\n",
    "def calc_loss_loader(data_loader, model, device, num_batches=None):\n",
    "    total_loss = 0.\n",
    "    if len(data_loader) == 0:\n",
    "        return float(\"nan\")\n",
    "    elif num_batches is None:\n",
    "        num_batches = len(data_loader)\n",
    "    else:\n",
    "        # if num_batches 超过 the number of batches in the data loader\n",
    "        # 减少batches数量 to match batches总数 in the data loader\n",
    "        num_batches = min(num_batches, len(data_loader))  #取最小值\n",
    "    for i, (input_batch, target_batch) in enumerate(data_loader):\n",
    "        if i < num_batches:\n",
    "            #alc_loss_batch 内部会调用 cross-entropy loss 来计算单个批次的损失。\n",
    "            loss = calc_loss_batch(input_batch, target_batch, model, device)\n",
    "            total_loss += loss.item()\n",
    "        else:\n",
    "            break\n",
    "    return total_loss / num_batches"
   ]
  },
  {
   "cell_type": "markdown",
   "id": "52a702c2",
   "metadata": {},
   "source": [
    "- 如果您的计算机配备支持 CUDA 的 GPU，LLM 将在 GPU 上进行训练，而无需对代码进行任何更改。通过设置 device，我们可以确保数据加载到与 LLM 模型相同的设备上。"
   ]
  },
  {
   "cell_type": "code",
   "execution_count": 25,
   "id": "2c0329c5",
   "metadata": {},
   "outputs": [
    {
     "name": "stdout",
     "output_type": "stream",
     "text": [
      "Training loss: 10.987583584255642\n",
      "Validation loss: 10.981104850769043\n"
     ]
    }
   ],
   "source": [
    "device = torch.device(\"cuda\" if torch.cuda.is_available() else \"cpu\")\n",
    "\n",
    "# Note:\n",
    "# Uncommenting the following lines will allow the code to run on Apple Silicon chips, if applicable,\n",
    "# which is approximately 2x faster than on an Apple CPU (as measured on an M3 MacBook Air).\n",
    "# However, the resulting loss values may be slightly different.\n",
    "\n",
    "#if torch.cuda.is_available():\n",
    "#    device = torch.device(\"cuda\")\n",
    "#elif torch.backends.mps.is_available():\n",
    "#    device = torch.device(\"mps\")\n",
    "#else:\n",
    "#    device = torch.device(\"cpu\")\n",
    "#\n",
    "# print(f\"Using {device} device.\")\n",
    "\n",
    "\n",
    "model.to(device) # no assignment model = model.to(device) necessary for nn.Module classes\n",
    "\n",
    "\n",
    "torch.manual_seed(123) # For reproducibility due to the shuffling in the data loader\n",
    "\n",
    "with torch.no_grad(): # Disable gradient tracking for efficiency because we are not training, yet\n",
    "    train_loss = calc_loss_loader(train_loader, model, device)\n",
    "    val_loss = calc_loss_loader(val_loader, model, device)\n",
    "\n",
    "print(\"Training loss:\", train_loss)\n",
    "print(\"Validation loss:\", val_loss)"
   ]
  },
  {
   "cell_type": "markdown",
   "id": "e93efe25",
   "metadata": {},
   "source": [
    "<img src=\"https://sebastianraschka.com/images/LLMs-from-scratch-images/ch05_compressed/mental-model-1.webp\" width=400px>"
   ]
  },
  {
   "cell_type": "markdown",
   "id": "67761983",
   "metadata": {},
   "source": [
    "## 5.2 Training an LLM\n",
    "- 在本节中，我们最终实现训练 LLM 的代码。\n",
    "- 我们将重点放在一个简单的训练函数上（如果你对更高级的技术感兴趣，比如学习率预热、余弦退火和梯度裁剪， learning rate warmup, cosine annealing, and gradient clipping ，请参阅附录 D）。\n",
    "<img src=\"https://sebastianraschka.com/images/LLMs-from-scratch-images/ch05_compressed/train-steps.webp\" width=300px>"
   ]
  },
  {
   "cell_type": "code",
   "execution_count": 26,
   "id": "4eab75d7",
   "metadata": {},
   "outputs": [],
   "source": [
    "# eval_freq: 评估频率，每隔多少步进行评估。\n",
    "# eval_iter: 评估时使用的迭代次数。\n",
    "def train_model_simple(model, train_loader, val_loader, optimizer, device, num_epochs,\n",
    "                       eval_freq, eval_iter, start_context, tokenizer):\n",
    "    # Initialize lists to track losses and tokens seen\n",
    "    #设置训练损失列表、验证损失列表、tokens统计等变量\n",
    "    train_losses, val_losses, track_tokens_seen = [], [], []\n",
    "    tokens_seen, global_step = 0, -1\n",
    "\n",
    "    # Main training loop\n",
    "    for epoch in range(num_epochs):\n",
    "        model.train()  # Set model to training mode\n",
    "        \n",
    "        for input_batch, target_batch in train_loader:\n",
    "            #重置上一次小批次的梯度。\n",
    "            optimizer.zero_grad() # Reset loss gradients from previous batch iteration\n",
    "            #计算小批次的损失并反向传播更新权重。\n",
    "            loss = calc_loss_batch(input_batch, target_batch, model, device)\n",
    "            loss.backward() # Calculate loss gradients\n",
    "            optimizer.step() # Update model weights using loss gradients\n",
    "            tokens_seen += input_batch.numel()  #累加\n",
    "            global_step += 1\n",
    "\n",
    "            # Optional evaluation step\n",
    "            #到了该评估的时候了\n",
    "            if global_step % eval_freq == 0:\n",
    "                train_loss, val_loss = evaluate_model( \n",
    "                    model, train_loader, val_loader, device, eval_iter)  #评估时使用的迭代次数\n",
    "                train_losses.append(train_loss) \n",
    "                val_losses.append(val_loss)     #将评估损失添加到列表中。\n",
    "                track_tokens_seen.append(tokens_seen)             #记录已经处理的token数量\n",
    "                print(f\"Ep {epoch+1} (Step {global_step:06d}): \"\n",
    "                      f\"Train loss {train_loss:.3f}, Val loss {val_loss:.3f}\")\n",
    "\n",
    "        # Print a sample text after each epoch\n",
    "        generate_and_print_sample(\n",
    "            model, tokenizer, device, start_context\n",
    "        )\n",
    "\n",
    "    return train_losses, val_losses, track_tokens_seen\n",
    "\n",
    "\n",
    "#在训练过程中定期评估模型的性能。\n",
    "def evaluate_model(model, train_loader, val_loader, device, eval_iter):\n",
    "    model.eval()\n",
    "    with torch.no_grad():     #设置模型为评估模式，禁用梯度计算。\n",
    "        #调用 calc_loss_loader 函数计算训练和验证集的平均损失。\n",
    "        train_loss = calc_loss_loader(train_loader, model, device, num_batches=eval_iter)\n",
    "        val_loss = calc_loss_loader(val_loader, model, device, num_batches=eval_iter)\n",
    "   #返回模型到训练模式并返回训练和验证损失。\n",
    "    model.train()\n",
    "    return train_loss, val_loss\n",
    "\n",
    "\n",
    "#在每个epoch后生成并打印一段文本样例。\n",
    "def generate_and_print_sample(model, tokenizer, device, start_context):\n",
    "    model.eval()   #进入评估模式\n",
    "    context_size = model.pos_emb.weight.shape[0]\n",
    "    encoded = text_to_token_ids(start_context, tokenizer).to(device)  #解码\n",
    "    with torch.no_grad():\n",
    "        token_ids = generate_text_simple(\n",
    "            model=model, idx=encoded,\n",
    "            max_new_tokens=50, context_size=context_size\n",
    "        )       #生成50个新token\n",
    "    decoded_text = token_ids_to_text(token_ids, tokenizer)     #解码转换成文本\n",
    "    print(decoded_text.replace(\"\\n\", \" \"))  # Compact print format\n",
    "    model.train()"
   ]
  },
  {
   "cell_type": "markdown",
   "id": "a75e7fbd",
   "metadata": {},
   "source": [
    "- 使用上述训练方法训练LLM"
   ]
  },
  {
   "cell_type": "code",
   "execution_count": 27,
   "id": "05398a5b",
   "metadata": {},
   "outputs": [
    {
     "name": "stdout",
     "output_type": "stream",
     "text": [
      "Ep 1 (Step 000000): Train loss 9.820, Val loss 9.927\n",
      "Ep 1 (Step 000005): Train loss 8.066, Val loss 8.338\n",
      "Every effort moves you,,,,,,,,,,,,.                                     \n",
      "Ep 2 (Step 000010): Train loss 6.624, Val loss 7.050\n",
      "Ep 2 (Step 000015): Train loss 6.049, Val loss 6.603\n",
      "Every effort moves you, and,, and,,,,,,, and,.                                   \n",
      "Ep 3 (Step 000020): Train loss 5.559, Val loss 6.494\n",
      "Ep 3 (Step 000025): Train loss 5.428, Val loss 6.384\n",
      "Every effort moves you, and to the to the of the to the, and I had. Gis, and, and, and, and, and, and I had, and, and, and, and, and, and, and, and, and,\n",
      "Ep 4 (Step 000030): Train loss 4.974, Val loss 6.285\n",
      "Ep 4 (Step 000035): Train loss 4.721, Val loss 6.303\n",
      "Every effort moves you of the picture.      \"I                \"I\"I the picture\"I had the picture\"I the picture and I had been the picture of\n",
      "Ep 5 (Step 000040): Train loss 4.058, Val loss 6.159\n",
      "Every effort moves you know the                          \"Oh, and the fact a little the latter the honour his pictures--and it's--I he had\n",
      "Ep 6 (Step 000045): Train loss 3.676, Val loss 6.174\n",
      "Ep 6 (Step 000050): Train loss 3.117, Val loss 6.148\n",
      "Every effort moves you know the fact, and pushed one of the to the fact of the last word.        \"Oh, and I was his pictures--I had the donkey. I had the donkey. \"I looked. \n",
      "Ep 7 (Step 000055): Train loss 3.026, Val loss 6.182\n",
      "Ep 7 (Step 000060): Train loss 2.281, Val loss 6.145\n",
      "Every effort moves you know,\" was not that the picture.  I-chairs forward. \"There: \"Yes, and!  \"I didn't say, and I was a little. \"I he was his pictures--because he was his pictures\n",
      "Ep 8 (Step 000065): Train loss 1.863, Val loss 6.164\n",
      "Ep 8 (Step 000070): Train loss 1.532, Val loss 6.259\n",
      "Every effort moves you?\"  \"Yes--quite insensible to the fact with the last word. Gisburn's an awful simpleton, and Mrs. I remember getting off a prod, as once one had been the donkey. \"There were days when I\n",
      "Ep 9 (Step 000075): Train loss 1.181, Val loss 6.249\n",
      "Ep 9 (Step 000080): Train loss 0.900, Val loss 6.266\n",
      "Every effort moves you?\"  \"Yes--quite insensible to the irony. She wanted him vindicated--and by me!\"  He laughed again, and threw back his head to look up at the honour being _mine_--because he's. The\n",
      "Ep 10 (Step 000085): Train loss 0.658, Val loss 6.369\n",
      "Every effort moves you?\"  \"Yes--quite insensible to the irony. She wanted him vindicated--and by me!\"  He laughed again, and threw back his head to look up at the sketch of the donkey. \"There were days when I\n",
      "Training completed in 0.35 minutes.\n"
     ]
    }
   ],
   "source": [
    "# Note:\n",
    "# Uncomment the following code to calculate the execution time\n",
    "#导入 time 模块，并使用 time.time() 记录训练开始时间，方便后续计算总的执行时间\n",
    "import time\n",
    "start_time = time.time()\n",
    "\n",
    "torch.manual_seed(123)\n",
    "model = GPTModel(GPT_CONFIG_124M)\n",
    "model.to(device)\n",
    "#创建一个 AdamW 优化器并传入模型参数进行优化。\n",
    "#lr=0.0004 指定学习率为 0.0004。\n",
    "#weight_decay=0.1 用于 L2 正则化，有助于减少模型过拟合。\n",
    "optimizer = torch.optim.AdamW(model.parameters(), lr=0.0004, weight_decay=0.1)\n",
    "\n",
    "#设置训练的 epoch 数为 10，即完整遍历训练集 10 次。\n",
    "num_epochs = 10\n",
    "train_losses, val_losses, tokens_seen = train_model_simple(\n",
    "    model, train_loader, val_loader, optimizer, device,\n",
    "    num_epochs=num_epochs, eval_freq=5, eval_iter=5,\n",
    "    start_context=\"Every effort moves you\", tokenizer=tokenizer\n",
    ")\n",
    "\n",
    "# Note:\n",
    "# Uncomment the following code to show the execution time\n",
    "end_time = time.time()\n",
    "execution_time_minutes = (end_time - start_time) / 60\n",
    "print(f\"Training completed in {execution_time_minutes:.2f} minutes.\")"
   ]
  },
  {
   "cell_type": "code",
   "execution_count": 28,
   "id": "11cf636a",
   "metadata": {},
   "outputs": [
    {
     "data": {
      "image/png": "[encoded data removed]",
      "text/plain": [
       "<Figure size 500x300 with 2 Axes>"
      ]
     },
     "metadata": {},
     "output_type": "display_data"
    }
   ],
   "source": [
    "import matplotlib.pyplot as plt\n",
    "from matplotlib.ticker import MaxNLocator  #画图 损失率\n",
    "\n",
    "\n",
    "def plot_losses(epochs_seen, tokens_seen, train_losses, val_losses):\n",
    "    fig, ax1 = plt.subplots(figsize=(5, 3))\n",
    "\n",
    "    # Plot training and validation loss against epochs\n",
    "    ax1.plot(epochs_seen, train_losses, label=\"Training loss\")\n",
    "    ax1.plot(epochs_seen, val_losses, linestyle=\"-.\", label=\"Validation loss\")\n",
    "    ax1.set_xlabel(\"Epochs\")\n",
    "    ax1.set_ylabel(\"Loss\")\n",
    "    ax1.legend(loc=\"upper right\")\n",
    "    ax1.xaxis.set_major_locator(MaxNLocator(integer=True))  # only show integer labels on x-axis\n",
    "\n",
    "    # Create a second x-axis for tokens seen\n",
    "    ax2 = ax1.twiny()  # Create a second x-axis that shares the same y-axis\n",
    "    ax2.plot(tokens_seen, train_losses, alpha=0)  # Invisible plot for aligning ticks\n",
    "    ax2.set_xlabel(\"Tokens seen\")\n",
    "\n",
    "    fig.tight_layout()  # Adjust layout to make room\n",
    "    plt.savefig(\"loss-plot.pdf\")\n",
    "    plt.show()\n",
    "\n",
    "epochs_tensor = torch.linspace(0, num_epochs, len(train_losses))\n",
    "plot_losses(epochs_tensor, tokens_seen, train_losses, val_losses)"
   ]
  },
  {
   "cell_type": "markdown",
   "id": "4fb93c99",
   "metadata": {},
   "source": [
    "- 从上面的结果来看，模型在训练开始时生成了无法理解的词语字符串，而在训练接近尾声时，已经能够生成基本符合语法的句子。\n",
    "- 然而，通过观察训练集和验证集的损失值，我们可以看出模型开始出现**过拟合**。\n",
    "- 如果检查模型在训练后期生成的部分文本，会发现其中一些内容是直接从训练集中逐字复制的——模型仅仅是记住了训练数据。\n",
    "\n",
    "- 稍后我们将介绍一些解码策略，可以在一定程度上减轻mitigate这种记忆化现象。\n",
    "- 需要注意的是，之所以会发生过拟合，是因为我们使用的训练集非常小，且多次重复迭代。\n",
    "    - 此次的语言模型训练主要是为了教学目的，目标是让我们看到模型能够学习生成连贯的文本。\n",
    "    - 相比于花费数周或数月时间在大量昂贵的硬件上训练模型，我们稍后会加载预训练的权重。\n",
    "    \n",
    "<img src=\"https://sebastianraschka.com/images/LLMs-from-scratch-images/ch05_compressed/mental-model-2.webp\" width=350px>"
   ]
  },
  {
   "cell_type": "markdown",
   "id": "c462d735",
   "metadata": {},
   "source": [
    "## 5.3 Decoding strategies to control randomness\n",
    "- 对于像上文训练的 GPT 这样相对小的 LLM（大型语言模型），推理过程相对便宜，因此即使在训练时使用了 GPU，在推理时也不需要用 GPU。\n",
    "- generate_text_simple 函数 依次上层一个token/word，依据最大可能性得分\n"
   ]
  },
  {
   "cell_type": "code",
   "execution_count": 29,
   "id": "93f21095",
   "metadata": {},
   "outputs": [
    {
     "name": "stdout",
     "output_type": "stream",
     "text": [
      "Output text:\n",
      " Every effort moves you?\"\n",
      "\n",
      "\"Yes--quite insensible to the irony. She wanted him vindicated--and by me!\"\n",
      "\n",
      "\n"
     ]
    }
   ],
   "source": [
    "model.to(\"cpu\")\n",
    "model.eval()  #评估模式\n",
    "\n",
    "tokenizer = tiktoken.get_encoding(\"gpt2\")   #分词器\n",
    "\n",
    "token_ids = generate_text_simple(\n",
    "    model=model,\n",
    "    idx=text_to_token_ids(\"Every effort moves you\", tokenizer),\n",
    "    max_new_tokens=25,\n",
    "    context_size=GPT_CONFIG_124M[\"context_length\"]\n",
    ")\n",
    "\n",
    "print(\"Output text:\\n\", token_ids_to_text(token_ids, tokenizer))"
   ]
  },
  {
   "cell_type": "markdown",
   "id": "dd4bfa46",
   "metadata": {},
   "source": [
    "- 即使我们多次执行上面的 generate_text_simple 函数，LLM 也会生成相同的输出。\n",
    "- 我们现在介绍两种被称为解码策略的概念，用于修改 generate_text_simple 函数：温度缩放 和 Top-k 采样 **temperature scaling and top-k sampling。**\n",
    "- 这些策略可以让模型控制生成文本的随机性和多样性。"
   ]
  },
  {
   "cell_type": "markdown",
   "id": "ff8760dd",
   "metadata": {},
   "source": [
    "### 5.3.1 Temperature scaling\n",
    "- 在之前，我们总是使用 torch.argmax 选取概率最高的 token 作为下一个 token。\n",
    "- 为了增加变化，我们可以使用 torch.multinomial(probs, num_samples=1) 从概率分布中进行采样。\n",
    "- 在这里，每个索引被选中的概率对应于输入张量中的概率。\n"
   ]
  },
  {
   "cell_type": "markdown",
   "id": "ed0f852d",
   "metadata": {},
   "source": [
    "- 以下是生成下一个 token 的简单回顾，假设一个非常小的词汇表以便于说明："
   ]
  },
  {
   "cell_type": "code",
   "execution_count": 30,
   "id": "dc68b490",
   "metadata": {},
   "outputs": [
    {
     "name": "stdout",
     "output_type": "stream",
     "text": [
      "forward\n"
     ]
    }
   ],
   "source": [
    "vocab = { \n",
    "    \"closer\": 0,\n",
    "    \"every\": 1, \n",
    "    \"effort\": 2, \n",
    "    \"forward\": 3,\n",
    "    \"inches\": 4,\n",
    "    \"moves\": 5, \n",
    "    \"pizza\": 6,\n",
    "    \"toward\": 7,\n",
    "    \"you\": 8,\n",
    "} \n",
    "\n",
    "## inverse_vocab 将 vocab 中的键值对反转，以便通过 token id 查找对应的单词\n",
    "inverse_vocab = {v: k for k, v in vocab.items()}\n",
    "\n",
    "# Suppose input is \"every effort moves you\", and the LLM\n",
    "# returns the following logits for the next token:\n",
    "next_token_logits = torch.tensor(\n",
    "    [4.51, 0.89, -1.90, 6.75, 1.63, -1.62, -1.89, 6.28, 1.79]\n",
    ")\n",
    "\n",
    "## 使用 softmax 计算每个 token 的概率分布\n",
    "probas = torch.softmax(next_token_logits, dim=0)\n",
    "## 找到概率最大的 token 的索引\n",
    "next_token_id = torch.argmax(probas).item()\n",
    "\n",
    "# The next generated token is then as follows:\n",
    "print(inverse_vocab[next_token_id])"
   ]
  },
  {
   "cell_type": "code",
   "execution_count": 31,
   "id": "ed9b71e2",
   "metadata": {},
   "outputs": [
    {
     "name": "stdout",
     "output_type": "stream",
     "text": [
      "toward\n"
     ]
    }
   ],
   "source": [
    "torch.manual_seed(123)\n",
    "next_token_id = torch.multinomial(probas, num_samples=1).item()  #对概率进行采样\n",
    "print(inverse_vocab[next_token_id])"
   ]
  },
  {
   "cell_type": "markdown",
   "id": "3a23f474",
   "metadata": {},
   "source": [
    "- 为了避免总是选择最可能的 token，我们可以通过 torch.multinomial(probas, num_samples=1) 从 softmax 分布中进行采样，决定下一个 token。\n",
    "- 为了便于说明，假设我们使用原始的 softmax 概率对下一个 token 进行 1000 次采样："
   ]
  },
  {
   "cell_type": "code",
   "execution_count": 32,
   "id": "b598475e",
   "metadata": {},
   "outputs": [
    {
     "name": "stdout",
     "output_type": "stream",
     "text": [
      "71 x closer\n",
      "2 x every\n",
      "0 x effort\n",
      "544 x forward\n",
      "2 x inches\n",
      "1 x moves\n",
      "0 x pizza\n",
      "376 x toward\n",
      "4 x you\n"
     ]
    }
   ],
   "source": [
    "def print_sampled_tokens(probas):\n",
    "    torch.manual_seed(123) # Manual seed for reproducibility可复现\n",
    "    sample = [torch.multinomial(probas, num_samples=1).item() for i in range(1_000)]\n",
    "    sampled_ids = torch.bincount(torch.tensor(sample))\n",
    "    for i, freq in enumerate(sampled_ids):\n",
    "        print(f\"{freq} x {inverse_vocab[i]}\")\n",
    "\n",
    "print_sampled_tokens(probas)"
   ]
  },
  {
   "cell_type": "markdown",
   "id": "2406a363",
   "metadata": {},
   "source": [
    "- 我们可以通过一种称为温度缩放 temperature scaling的概念来控制分布和选择过程，指的是将 **logits 除以一个大于 0 的数值temperature**。\n",
    "- temperature大于 1 时，在应用 softmax 后，token 概率会更均匀分布；temperature小于 1 时，在应用 softmax 后，概率分布会更自信（更陡峭或尖峰）--会一直选择。"
   ]
  },
  {
   "cell_type": "code",
   "execution_count": 33,
   "id": "a33942e4",
   "metadata": {},
   "outputs": [],
   "source": [
    "def softmax_with_temperature(logits, temperature):\n",
    "    scaled_logits = logits / temperature           #除以一个正数\n",
    "    return torch.softmax(scaled_logits, dim=0)\n",
    "\n",
    "# Temperature values\n",
    "temperatures = [1, 0.1, 5]  # Original, higher confidence（变大了）, and lower confidence变小\n",
    "\n",
    "# Calculate scaled probabilities\n",
    "scaled_probas = [softmax_with_temperature(next_token_logits, T) for T in temperatures]"
   ]
  },
  {
   "cell_type": "code",
   "execution_count": 34,
   "id": "aec32c54",
   "metadata": {},
   "outputs": [
    {
     "data": {
      "image/png": "[encoded data removed]",
      "text/plain": [
       "<Figure size 500x300 with 1 Axes>"
      ]
     },
     "metadata": {},
     "output_type": "display_data"
    }
   ],
   "source": [
    "# Plotting画图\n",
    "x = torch.arange(len(vocab))\n",
    "bar_width = 0.15\n",
    "\n",
    "fig, ax = plt.subplots(figsize=(5, 3))\n",
    "for i, T in enumerate(temperatures):\n",
    "    rects = ax.bar(x + i * bar_width, scaled_probas[i], bar_width, label=f'Temperature = {T}')\n",
    "\n",
    "ax.set_ylabel('Probability')\n",
    "ax.set_xticks(x)\n",
    "ax.set_xticklabels(vocab.keys(), rotation=90)\n",
    "ax.legend()\n",
    "\n",
    "plt.tight_layout()\n",
    "plt.savefig(\"temperature-plot.pdf\")\n",
    "plt.show()"
   ]
  },
  {
   "cell_type": "markdown",
   "id": "9bbe2a0b",
   "metadata": {},
   "source": [
    "- 可以看到，将温度设置为 0.1 重新缩放后，概率分布更尖锐，接近 torch.argmax，以致于几乎总是选择最可能的单词。\n",
    "- 而温度为 5 时，重新缩放后的概率更趋向于均匀分布："
   ]
  },
  {
   "cell_type": "code",
   "execution_count": 35,
   "id": "62b3805c",
   "metadata": {},
   "outputs": [
    {
     "name": "stdout",
     "output_type": "stream",
     "text": [
      "0 x closer\n",
      "0 x every\n",
      "0 x effort\n",
      "992 x forward\n",
      "0 x inches\n",
      "0 x moves\n",
      "0 x pizza\n",
      "8 x toward\n"
     ]
    }
   ],
   "source": [
    "print_sampled_tokens(scaled_probas[1])   #temperature=0.1 变大，很尖锐"
   ]
  },
  {
   "cell_type": "code",
   "execution_count": 36,
   "id": "1c009735",
   "metadata": {},
   "outputs": [
    {
     "name": "stdout",
     "output_type": "stream",
     "text": [
      "153 x closer\n",
      "68 x every\n",
      "55 x effort\n",
      "223 x forward\n",
      "102 x inches\n",
      "50 x moves\n",
      "43 x pizza\n",
      "218 x toward\n",
      "88 x you\n"
     ]
    }
   ],
   "source": [
    "print_sampled_tokens(scaled_probas[2])  #temperature=5 "
   ]
  },
  {
   "cell_type": "markdown",
   "id": "6c0cc24e",
   "metadata": {},
   "source": [
    "- 假设 LLM 的输入为“every effort moves you”，在上述方法下，有时会生成像“every effort moves you pizza”这样不合逻辑的文本，大约在 3.2% 的情况下（1000 次中出现了 32 次）。"
   ]
  },
  {
   "cell_type": "markdown",
   "id": "b4120b7d",
   "metadata": {},
   "source": [
    "### 5.3.2 Top-k  sampling\n",
    "- 为了能够在提高输出多样性（higher temperature）的同时减少生成不合逻辑句子的可能性，我们可以将采样限制在前 k 个最可能的 token 中：\n",
    "<img src=\"https://sebastianraschka.com/images/LLMs-from-scratch-images/ch05_compressed/topk.webp\" width=500px>\n",
    "- （请注意，此图中的数字已简化为小数点后两位，以减少视觉干扰。Softmax 行中的值应加起来为 1.0。）\n",
    "\n",
    "代码实现如下："
   ]
  },
  {
   "cell_type": "code",
   "execution_count": 37,
   "id": "8504dd80",
   "metadata": {},
   "outputs": [
    {
     "name": "stdout",
     "output_type": "stream",
     "text": [
      "Top logits: tensor([6.7500, 6.2800, 4.5100])\n",
      "Top positions: tensor([3, 7, 0])\n"
     ]
    }
   ],
   "source": [
    "top_k = 3\n",
    "#            位置 index索引\n",
    "top_logits, top_pos = torch.topk(next_token_logits, top_k)\n",
    "\n",
    "print(\"Top logits:\", top_logits)\n",
    "print(\"Top positions:\", top_pos)"
   ]
  },
  {
   "cell_type": "code",
   "execution_count": 38,
   "id": "efc3f2c8",
   "metadata": {},
   "outputs": [
    {
     "name": "stdout",
     "output_type": "stream",
     "text": [
      "tensor([4.5100,   -inf,   -inf, 6.7500,   -inf,   -inf,   -inf, 6.2800,   -inf])\n"
     ]
    }
   ],
   "source": [
    "new_logits = torch.where(  #条件选择函数\n",
    "    #在 condition真的位置将 input 的值赋给输出张量，而在 condition假（即不符合条件）的地方将 other 的值赋给输出张量。\n",
    "    #top_logits[-1]：前 K 个 token 的最低 logit 值\n",
    "    #如果不是top k里面的，执行input那句\n",
    "    condition=next_token_logits < top_logits[-1],\n",
    "    input=torch.tensor(float(\"-inf\")),       #其他的变成负无穷\n",
    "    other=next_token_logits  #如果是top k里面的，保持原来的值\n",
    ")\n",
    "\n",
    "print(new_logits)"
   ]
  },
  {
   "cell_type": "markdown",
   "id": "b5fab8c8",
   "metadata": {},
   "source": [
    "> NOTE:\n",
    "> 作为选择，更有效一点的方式是：\n",
    "> ```python\n",
    "> new_logits = torch.full_like( # create tensor containing -inf values\n",
    ">    next_token_logits, -torch.inf\n",
    ">)   \n",
    "> new_logits[top_pos] = next_token_logits[top_pos] # copy top k values into the -inf tensor\n",
    "> ```\n",
    "> <br>"
   ]
  },
  {
   "cell_type": "code",
   "execution_count": 39,
   "id": "e2206d0f",
   "metadata": {},
   "outputs": [
    {
     "name": "stdout",
     "output_type": "stream",
     "text": [
      "tensor([0.0615, 0.0000, 0.0000, 0.5775, 0.0000, 0.0000, 0.0000, 0.3610, 0.0000])\n"
     ]
    }
   ],
   "source": [
    "topk_probas = torch.softmax(new_logits, dim=0)  #对前K个单独归一化\n",
    "print(topk_probas)"
   ]
  },
  {
   "cell_type": "markdown",
   "id": "fe902c18",
   "metadata": {},
   "source": [
    "### 5.3.3 修改Modify文本生成函数 \n",
    "- 前两节介绍了temperature sampling and top-k sampling\n",
    "- 让我们使用这两个概念来修改先前用于生成文本的 generate_simple 函数，创建一个新的 generate 函数："
   ]
  },
  {
   "cell_type": "code",
   "execution_count": 40,
   "id": "7d43339f",
   "metadata": {},
   "outputs": [],
   "source": [
    "#eos_id: 终止 token 的索引，遇到此 token 时停止生成\n",
    "def generate(model, idx, max_new_tokens, context_size, temperature=0.0, top_k=None, eos_id=None):\n",
    "\n",
    "    # For-loop is the same as before: Get logits, and only focus on last time step\n",
    "    for _ in range(max_new_tokens):\n",
    "        idx_cond = idx[:, -context_size:]\n",
    "        with torch.no_grad():  #不计算梯度\n",
    "            logits = model(idx_cond)\n",
    "        logits = logits[:, -1, :] ## 仅关注最后一个时间步的 logits\n",
    "\n",
    "\n",
    "        # New: Filter logits with top_k sampling\n",
    "        if top_k is not None:\n",
    "            # Keep only top_k values\n",
    "            top_logits, _ = torch.topk(logits, top_k)\n",
    "            min_val = top_logits[:, -1]\n",
    "            logits = torch.where(logits < min_val, torch.tensor(float(\"-inf\")).to(logits.device), logits)\n",
    "\n",
    "        # New: Apply temperature scaling\n",
    "        if temperature > 0.0:\n",
    "            logits = logits / temperature\n",
    "\n",
    "            # Apply softmax to get probabilities\n",
    "            probs = torch.softmax(logits, dim=-1)  # (batch_size, context_len)\n",
    "\n",
    "            # Sample from the distribution\n",
    "            idx_next = torch.multinomial(probs, num_samples=1)  # (batch_size, 1)\n",
    "\n",
    "        # Otherwise same as before: get idx of the vocab entry with the highest logits value\n",
    "        else:\n",
    "            idx_next = torch.argmax(logits, dim=-1, keepdim=True)  # (batch_size, 1)\n",
    "\n",
    "        if idx_next == eos_id:  # Stop generating early if end-of-sequence token is encountered and eos_id is specified\n",
    "            break\n",
    "\n",
    "        # Same as before: append sampled index to the running sequence\n",
    "        idx = torch.cat((idx, idx_next), dim=1)  # (batch_size, num_tokens+1)\n",
    "\n",
    "    return idx"
   ]
  },
  {
   "cell_type": "code",
   "execution_count": 41,
   "id": "2a5fd11e",
   "metadata": {},
   "outputs": [
    {
     "name": "stdout",
     "output_type": "stream",
     "text": [
      "Output text:\n",
      " Every effort moves you know began to go a hint a littleoms he painted with a single enough\n"
     ]
    }
   ],
   "source": [
    "torch.manual_seed(123)\n",
    "\n",
    "token_ids = generate(\n",
    "    model=model,\n",
    "    idx=text_to_token_ids(\"Every effort moves you\", tokenizer),\n",
    "    max_new_tokens=15,\n",
    "    context_size=GPT_CONFIG_124M[\"context_length\"],\n",
    "    top_k=25,\n",
    "    temperature=1.4\n",
    ")\n",
    "\n",
    "print(\"Output text:\\n\", token_ids_to_text(token_ids, tokenizer))"
   ]
  },
  {
   "cell_type": "markdown",
   "id": "6dbb7c94",
   "metadata": {},
   "source": [
    "## 5.4 Loading and saving model weights in PyTorch\n",
    "- 训练的计算成本很高，保存和加载LLM权重很重要\n",
    "<img src=\"https://sebastianraschka.com/images/LLMs-from-scratch-images/ch05_compressed/mental-model-3.webp\" width=400px>\n",
    "- 在PyTorch里推荐的方式是state_dict，通过torch.save函数的 .state_dict()方法"
   ]
  },
  {
   "cell_type": "code",
   "execution_count": 42,
   "id": "08ce5cd7",
   "metadata": {},
   "outputs": [],
   "source": [
    "torch.save(model.state_dict(), \"model.pth\")"
   ]
  },
  {
   "cell_type": "code",
   "execution_count": 43,
   "id": "f8a88b39",
   "metadata": {},
   "outputs": [],
   "source": [
    "#然后我们可以按如下方式将模型权重加载到一个新的 GPTModel 实例中\n",
    "\n",
    "model = GPTModel(GPT_CONFIG_124M)\n",
    "device = torch.device(\"cuda\" if torch.cuda.is_available() else \"cpu\")\n",
    "model.load_state_dict(torch.load(\"model.pth\", map_location=device, weights_only=True))\n",
    "model.eval();   #评估模式"
   ]
  },
  {
   "cell_type": "markdown",
   "id": "2fc2c12c",
   "metadata": {},
   "source": [
    "- 通常，我们会使用自适应优化器adaptive optimizers，如 Adam 或 AdamW，而不是常规的 SGD 来训练大型语言模型（LLM）。\n",
    "- adaptive optimizers会为每个模型权重存储额外的参数，因此在计划稍后继续预训练时，保存这些参数也是有意义的。"
   ]
  },
  {
   "cell_type": "code",
   "execution_count": 44,
   "id": "3c7001bd",
   "metadata": {},
   "outputs": [],
   "source": [
    "torch.save({\n",
    "    \"model_state_dict\": model.state_dict(),\n",
    "    \"optimizer_state_dict\": optimizer.state_dict(),\n",
    "    }, \n",
    "    \"model_and_optimizer.pth\"\n",
    ")"
   ]
  },
  {
   "cell_type": "code",
   "execution_count": 45,
   "id": "acac4ad9",
   "metadata": {},
   "outputs": [],
   "source": [
    "#加载检查点文件 weights_only=True 表示只加载权重信息\n",
    "checkpoint = torch.load(\"model_and_optimizer.pth\", weights_only=True)\n",
    "\n",
    "model = GPTModel(GPT_CONFIG_124M)\n",
    "#从 checkpoint 中提取模型的权重字典，并用 load_state_dict 加载到新创建的 model 中。\n",
    "#\"model_state_dict\" 键包含模型中所有参数的状态，包括权重和偏置，使模型恢复到保存的训练状态。\n",
    "model.load_state_dict(checkpoint[\"model_state_dict\"])\n",
    "\n",
    "#创建一个新的 AdamW 优化器实例，用于模型的训练。\n",
    "#设定学习率 lr=0.0005 和权重衰减 weight_decay=0.1。\n",
    "#model.parameters() 会将模型的所有参数传递给优化器，使其能在梯度下降过程中更新这些参数。\n",
    "optimizer = torch.optim.AdamW(model.parameters(), lr=0.0005, weight_decay=0.1)\n",
    "#恢复优化器状态 \n",
    "#\"optimizer_state_dict\" 中包含优化器的动量、学习率调度器等状态信息，可以让训练在上次中断的地方继续。\n",
    "optimizer.load_state_dict(checkpoint[\"optimizer_state_dict\"])\n",
    "#变成训练状态\n",
    "model.train();"
   ]
  },
  {
   "cell_type": "markdown",
   "id": "a3b4a3d1",
   "metadata": {},
   "source": [
    "## 5.5 从 OpenAI 加载预训练权重\n",
    "- 之前，我们仅使用一个非常短的小故事书籍进行了小型 GPT-2 模型的教育性训练。感兴趣的读者还可以在 ../03_bonus_pretraining_on_gutenberg 中找到完整的 Project Gutenberg 图书集上的更长的预训练运行记录。\n",
    "\n",
    "- 幸运的是，我们不需要花费数万美元甚至更多来在大型预训练语料库上训练模型，而是可以加载 OpenAI 提供的预训练权重。\n",
    "- 有关从 Hugging Face Hub 加载权重的替代方法，请参阅 ../02_alternative_weight_loading。\n",
    "\n",
    "- 首先，一些样板代码boilerplate code用于从 OpenAI 下载文件并将权重加载到 Python 中。- - 由于 OpenAI 使用了 TensorFlow，因此我们需要安装并使用 TensorFlow 来加载这些权重；tqdm 是一个进度条库。\n",
    "- 取消注释并运行下一个单元格来安装所需的库。\n",
    "\n"
   ]
  },
  {
   "cell_type": "code",
   "execution_count": 46,
   "id": "3c42b512",
   "metadata": {},
   "outputs": [
    {
     "name": "stdout",
     "output_type": "stream",
     "text": [
      "Requirement already satisfied: tensorflow in d:\\anaconda\\envs\\llms\\lib\\site-packages (2.18.0)\n",
      "Requirement already satisfied: tqdm in d:\\anaconda\\envs\\llms\\lib\\site-packages (4.66.6)\n",
      "Requirement already satisfied: tensorflow-intel==2.18.0 in d:\\anaconda\\envs\\llms\\lib\\site-packages (from tensorflow) (2.18.0)\n",
      "Requirement already satisfied: absl-py>=1.0.0 in d:\\anaconda\\envs\\llms\\lib\\site-packages (from tensorflow-intel==2.18.0->tensorflow) (2.1.0)\n",
      "Requirement already satisfied: astunparse>=1.6.0 in d:\\anaconda\\envs\\llms\\lib\\site-packages (from tensorflow-intel==2.18.0->tensorflow) (1.6.3)\n",
      "Requirement already satisfied: flatbuffers>=24.3.25 in d:\\anaconda\\envs\\llms\\lib\\site-packages (from tensorflow-intel==2.18.0->tensorflow) (24.3.25)\n",
      "Requirement already satisfied: gast!=0.5.0,!=0.5.1,!=0.5.2,>=0.2.1 in d:\\anaconda\\envs\\llms\\lib\\site-packages (from tensorflow-intel==2.18.0->tensorflow) (0.6.0)\n",
      "Requirement already satisfied: google-pasta>=0.1.1 in d:\\anaconda\\envs\\llms\\lib\\site-packages (from tensorflow-intel==2.18.0->tensorflow) (0.2.0)\n",
      "Requirement already satisfied: libclang>=13.0.0 in d:\\anaconda\\envs\\llms\\lib\\site-packages (from tensorflow-intel==2.18.0->tensorflow) (18.1.1)\n",
      "Requirement already satisfied: opt-einsum>=2.3.2 in d:\\anaconda\\envs\\llms\\lib\\site-packages (from tensorflow-intel==2.18.0->tensorflow) (3.4.0)\n",
      "Requirement already satisfied: packaging in d:\\anaconda\\envs\\llms\\lib\\site-packages (from tensorflow-intel==2.18.0->tensorflow) (23.2)\n",
      "Requirement already satisfied: protobuf!=4.21.0,!=4.21.1,!=4.21.2,!=4.21.3,!=4.21.4,!=4.21.5,<6.0.0dev,>=3.20.3 in d:\\anaconda\\envs\\llms\\lib\\site-packages (from tensorflow-intel==2.18.0->tensorflow) (5.28.3)\n",
      "Requirement already satisfied: requests<3,>=2.21.0 in d:\\anaconda\\envs\\llms\\lib\\site-packages (from tensorflow-intel==2.18.0->tensorflow) (2.32.3)\n",
      "Requirement already satisfied: setuptools in d:\\anaconda\\envs\\llms\\lib\\site-packages (from tensorflow-intel==2.18.0->tensorflow) (75.1.0)\n",
      "Requirement already satisfied: six>=1.12.0 in d:\\anaconda\\envs\\llms\\lib\\site-packages (from tensorflow-intel==2.18.0->tensorflow) (1.16.0)\n",
      "Requirement already satisfied: termcolor>=1.1.0 in d:\\anaconda\\envs\\llms\\lib\\site-packages (from tensorflow-intel==2.18.0->tensorflow) (2.5.0)\n",
      "Requirement already satisfied: typing-extensions>=3.6.6 in d:\\anaconda\\envs\\llms\\lib\\site-packages (from tensorflow-intel==2.18.0->tensorflow) (4.12.2)\n",
      "Requirement already satisfied: wrapt>=1.11.0 in d:\\anaconda\\envs\\llms\\lib\\site-packages (from tensorflow-intel==2.18.0->tensorflow) (1.16.0)\n",
      "Requirement already satisfied: grpcio<2.0,>=1.24.3 in d:\\anaconda\\envs\\llms\\lib\\site-packages (from tensorflow-intel==2.18.0->tensorflow) (1.67.1)\n",
      "Requirement already satisfied: tensorboard<2.19,>=2.18 in d:\\anaconda\\envs\\llms\\lib\\site-packages (from tensorflow-intel==2.18.0->tensorflow) (2.18.0)\n",
      "Requirement already satisfied: keras>=3.5.0 in d:\\anaconda\\envs\\llms\\lib\\site-packages (from tensorflow-intel==2.18.0->tensorflow) (3.6.0)\n",
      "Requirement already satisfied: numpy<2.1.0,>=1.26.0 in d:\\anaconda\\envs\\llms\\lib\\site-packages (from tensorflow-intel==2.18.0->tensorflow) (1.26.3)\n",
      "Requirement already satisfied: h5py>=3.11.0 in d:\\anaconda\\envs\\llms\\lib\\site-packages (from tensorflow-intel==2.18.0->tensorflow) (3.12.1)\n",
      "Requirement already satisfied: ml-dtypes<0.5.0,>=0.4.0 in d:\\anaconda\\envs\\llms\\lib\\site-packages (from tensorflow-intel==2.18.0->tensorflow) (0.4.1)\n",
      "Requirement already satisfied: tensorflow-io-gcs-filesystem>=0.23.1 in d:\\anaconda\\envs\\llms\\lib\\site-packages (from tensorflow-intel==2.18.0->tensorflow) (0.31.0)\n",
      "Requirement already satisfied: colorama in d:\\anaconda\\envs\\llms\\lib\\site-packages (from tqdm) (0.4.6)\n",
      "Requirement already satisfied: wheel<1.0,>=0.23.0 in d:\\anaconda\\envs\\llms\\lib\\site-packages (from astunparse>=1.6.0->tensorflow-intel==2.18.0->tensorflow) (0.44.0)\n",
      "Requirement already satisfied: rich in d:\\anaconda\\envs\\llms\\lib\\site-packages (from keras>=3.5.0->tensorflow-intel==2.18.0->tensorflow) (13.9.3)\n",
      "Requirement already satisfied: namex in d:\\anaconda\\envs\\llms\\lib\\site-packages (from keras>=3.5.0->tensorflow-intel==2.18.0->tensorflow) (0.0.8)\n",
      "Requirement already satisfied: optree in d:\\anaconda\\envs\\llms\\lib\\site-packages (from keras>=3.5.0->tensorflow-intel==2.18.0->tensorflow) (0.13.0)\n",
      "Requirement already satisfied: charset-normalizer<4,>=2 in d:\\anaconda\\envs\\llms\\lib\\site-packages (from requests<3,>=2.21.0->tensorflow-intel==2.18.0->tensorflow) (3.4.0)\n",
      "Requirement already satisfied: idna<4,>=2.5 in d:\\anaconda\\envs\\llms\\lib\\site-packages (from requests<3,>=2.21.0->tensorflow-intel==2.18.0->tensorflow) (3.10)\n",
      "Requirement already satisfied: urllib3<3,>=1.21.1 in d:\\anaconda\\envs\\llms\\lib\\site-packages (from requests<3,>=2.21.0->tensorflow-intel==2.18.0->tensorflow) (2.2.3)\n",
      "Requirement already satisfied: certifi>=2017.4.17 in d:\\anaconda\\envs\\llms\\lib\\site-packages (from requests<3,>=2.21.0->tensorflow-intel==2.18.0->tensorflow) (2024.8.30)\n",
      "Requirement already satisfied: markdown>=2.6.8 in d:\\anaconda\\envs\\llms\\lib\\site-packages (from tensorboard<2.19,>=2.18->tensorflow-intel==2.18.0->tensorflow) (3.7)\n",
      "Requirement already satisfied: tensorboard-data-server<0.8.0,>=0.7.0 in d:\\anaconda\\envs\\llms\\lib\\site-packages (from tensorboard<2.19,>=2.18->tensorflow-intel==2.18.0->tensorflow) (0.7.2)\n",
      "Requirement already satisfied: werkzeug>=1.0.1 in d:\\anaconda\\envs\\llms\\lib\\site-packages (from tensorboard<2.19,>=2.18->tensorflow-intel==2.18.0->tensorflow) (3.1.0)\n",
      "Requirement already satisfied: MarkupSafe>=2.1.1 in d:\\anaconda\\envs\\llms\\lib\\site-packages (from werkzeug>=1.0.1->tensorboard<2.19,>=2.18->tensorflow-intel==2.18.0->tensorflow) (3.0.2)\n",
      "Requirement already satisfied: markdown-it-py>=2.2.0 in d:\\anaconda\\envs\\llms\\lib\\site-packages (from rich->keras>=3.5.0->tensorflow-intel==2.18.0->tensorflow) (3.0.0)\n",
      "Requirement already satisfied: pygments<3.0.0,>=2.13.0 in d:\\anaconda\\envs\\llms\\lib\\site-packages (from rich->keras>=3.5.0->tensorflow-intel==2.18.0->tensorflow) (2.18.0)\n",
      "Requirement already satisfied: mdurl~=0.1 in d:\\anaconda\\envs\\llms\\lib\\site-packages (from markdown-it-py>=2.2.0->rich->keras>=3.5.0->tensorflow-intel==2.18.0->tensorflow) (0.1.2)\n",
      "Note: you may need to restart the kernel to use updated packages.\n"
     ]
    }
   ],
   "source": [
    "pip install tensorflow tqdm"
   ]
  },
  {
   "cell_type": "code",
   "execution_count": 47,
   "id": "8a007a3f",
   "metadata": {},
   "outputs": [
    {
     "name": "stdout",
     "output_type": "stream",
     "text": [
      "TensorFlow version: 2.18.0\n",
      "tqdm version: 4.66.6\n"
     ]
    }
   ],
   "source": [
    "print(\"TensorFlow version:\", version(\"tensorflow\"))\n",
    "print(\"tqdm version:\", version(\"tqdm\"))"
   ]
  },
  {
   "cell_type": "code",
   "execution_count": 48,
   "id": "cf60620f",
   "metadata": {},
   "outputs": [],
   "source": [
    "# Relative import from the gpt_download.py contained in this folder\n",
    "from gpt_download import download_and_load_gpt2"
   ]
  },
  {
   "cell_type": "markdown",
   "id": "4f047166",
   "metadata": {},
   "source": [
    "- 接着，我们可以按如下方式下载参数为 124M 的模型权重："
   ]
  },
  {
   "cell_type": "code",
   "execution_count": 49,
   "id": "b2586fa9",
   "metadata": {},
   "outputs": [
    {
     "name": "stdout",
     "output_type": "stream",
     "text": [
      "File already exists and is up-to-date: gpt2\\124M\\checkpoint\n",
      "File already exists and is up-to-date: gpt2\\124M\\encoder.json\n",
      "File already exists and is up-to-date: gpt2\\124M\\hparams.json\n",
      "File already exists and is up-to-date: gpt2\\124M\\model.ckpt.data-00000-of-00001\n",
      "File already exists and is up-to-date: gpt2\\124M\\model.ckpt.index\n",
      "File already exists and is up-to-date: gpt2\\124M\\model.ckpt.meta\n",
      "File already exists and is up-to-date: gpt2\\124M\\vocab.bpe\n"
     ]
    }
   ],
   "source": [
    "settings, params = download_and_load_gpt2(model_size=\"124M\", models_dir=\"gpt2\")"
   ]
  },
  {
   "cell_type": "code",
   "execution_count": 50,
   "id": "1de2c3ab",
   "metadata": {},
   "outputs": [
    {
     "name": "stdout",
     "output_type": "stream",
     "text": [
      "Settings: {'n_vocab': 50257, 'n_ctx': 1024, 'n_embd': 768, 'n_head': 12, 'n_layer': 12}\n"
     ]
    }
   ],
   "source": [
    "print(\"Settings:\", settings)"
   ]
  },
  {
   "cell_type": "code",
   "execution_count": 51,
   "id": "3aa62f94",
   "metadata": {},
   "outputs": [
    {
     "name": "stdout",
     "output_type": "stream",
     "text": [
      "Parameter dictionary keys: dict_keys(['blocks', 'b', 'g', 'wpe', 'wte'])\n"
     ]
    }
   ],
   "source": [
    "print(\"Parameter dictionary keys:\", params.keys())"
   ]
  },
  {
   "cell_type": "code",
   "execution_count": 52,
   "id": "053c7144",
   "metadata": {},
   "outputs": [
    {
     "name": "stdout",
     "output_type": "stream",
     "text": [
      "[[-0.11010301 -0.03926672  0.03310751 ... -0.1363697   0.01506208\n",
      "   0.04531523]\n",
      " [ 0.04034033 -0.04861503  0.04624869 ...  0.08605453  0.00253983\n",
      "   0.04318958]\n",
      " [-0.12746179  0.04793796  0.18410145 ...  0.08991534 -0.12972379\n",
      "  -0.08785918]\n",
      " ...\n",
      " [-0.04453601 -0.05483596  0.01225674 ...  0.10435229  0.09783269\n",
      "  -0.06952604]\n",
      " [ 0.1860082   0.01665728  0.04611587 ... -0.09625227  0.07847701\n",
      "  -0.02245961]\n",
      " [ 0.05135201 -0.02768905  0.0499369  ...  0.00704835  0.15519823\n",
      "   0.12067825]]\n",
      "Token embedding weight tensor dimensions: (50257, 768)\n"
     ]
    }
   ],
   "source": [
    "print(params[\"wte\"])\n",
    "print(\"Token embedding weight tensor dimensions:\", params[\"wte\"].shape)"
   ]
  },
  {
   "cell_type": "markdown",
   "id": "3f789d48",
   "metadata": {},
   "source": [
    "- 此外，\"355M\"、\"774M\" 和 \"1558M\" 也是受支持的 model_size 参数。下图总结了这些不同大小模型之间的差异：\n",
    "<img src=\"https://sebastianraschka.com/images/LLMs-from-scratch-images/ch05_compressed/gpt-sizes.webp?timestamp=123\" width=500px>\n",
    "\n",
    "- 在上面的操作中，我们将 124M 的 GPT-2 模型权重加载到了 Python 中，但是我们仍然需要将它们传递到我们的 GPTModel 实例中。\n",
    "\n",
    "- 首先，我们初始化一个新的 GPTModel 实例。\n",
    "\n",
    "- 接下来要做的是将 OpenAI 的权重分配给 GPTModel 实例中相应的权重张量。\n",
    "\n",
    "- 需要注意的是，原始的 GPT 模型在multi-head attention module中对查询、键和值矩阵的线性层进行了带偏置向量bias vectors的初始化，这在我们实现中并不是必需的，也不被推荐。然而，为了正确加载权重，我们也需要在实现中通过将 qkv_bias 设置为 True 来启用它们。\n"
   ]
  },
  {
   "cell_type": "code",
   "execution_count": 53,
   "id": "5482aae0",
   "metadata": {},
   "outputs": [],
   "source": [
    "# Define model configurations in a dictionary for compactness\n",
    "#通过字典配置不同的 GPT-2 模型参数\n",
    "model_configs = {\n",
    "    \"gpt2-small (124M)\": {\"emb_dim\": 768, \"n_layers\": 12, \"n_heads\": 12},\n",
    "    \"gpt2-medium (355M)\": {\"emb_dim\": 1024, \"n_layers\": 24, \"n_heads\": 16},\n",
    "    \"gpt2-large (774M)\": {\"emb_dim\": 1280, \"n_layers\": 36, \"n_heads\": 20},\n",
    "    \"gpt2-xl (1558M)\": {\"emb_dim\": 1600, \"n_layers\": 48, \"n_heads\": 25},\n",
    "}\n",
    "\n",
    "# Copy the base configuration and update with specific model settings\n",
    "model_name = \"gpt2-small (124M)\"  # Example model name\n",
    "#将 GPT-2 小模型（124M参数）的基础配置复制到 NEW_CONFIG 中，以便在此基础上添加特定的模型参数。\n",
    "#.copy() 确保原始 GPT_CONFIG_124M 的内容不会被修改。\n",
    "NEW_CONFIG = GPT_CONFIG_124M.copy()   #复制设置\n",
    "# 从字典 model_configs 中选择所需模型\n",
    "#并更新到 NEW_CONFIG 中。\n",
    "NEW_CONFIG.update(model_configs[model_name])\n",
    "\n",
    "#手动添加了额外配置，\n",
    "#context_length：设置上下文长度为 1024，表示模型可以处理的最大序列长度。\n",
    "#qkv_bias：设置多头注意力层中的 Query、Key、Value 线性层带有偏置项。\n",
    "NEW_CONFIG.update({\"context_length\": 1024, \"qkv_bias\": True})\n",
    "\n",
    "\n",
    "#实例化模型，使用NEW_CONFIG配置\n",
    "gpt = GPTModel(NEW_CONFIG)\n",
    "gpt.eval();#评估模式：禁用 dropout 等训练特定的操作，使模型适用于推理任务。"
   ]
  },
  {
   "cell_type": "markdown",
   "id": "1e71af46",
   "metadata": {},
   "source": [
    "- 下一个任务是将OpenAI weights分配给GPTModel instance对应的权重张量"
   ]
  },
  {
   "cell_type": "code",
   "execution_count": 54,
   "id": "eb4376da",
   "metadata": {},
   "outputs": [],
   "source": [
    "def assign(left, right):\n",
    "    if left.shape != right.shape:\n",
    "        raise ValueError(f\"Shape mismatch. Left: {left.shape}, Right: {right.shape}\")\n",
    "    return torch.nn.Parameter(torch.tensor(right))"
   ]
  },
  {
   "cell_type": "code",
   "execution_count": 55,
   "id": "c9934954",
   "metadata": {},
   "outputs": [],
   "source": [
    "## 引入numpy库，提供矩阵运算支持\n",
    "import numpy as np\n",
    "\n",
    "#将预训练好的模型权重 params 加载到 GPT 模型实例 gpt 中\n",
    "def load_weights_into_gpt(gpt, params):\n",
    "    #加载embedding层weight\n",
    "    gpt.pos_emb.weight = assign(gpt.pos_emb.weight, params['wpe'])\n",
    "    gpt.tok_emb.weight = assign(gpt.tok_emb.weight, params['wte'])\n",
    "    \n",
    "    #加载每个 Transformer Block 的权重\n",
    "    #params[\"blocks\"] 是一个包含多层 Transformer 的字典。\n",
    "    for b in range(len(params[\"blocks\"])):\n",
    "        \n",
    "        #加载自注意力层的 Query、Key、Value 权重和偏置\n",
    "        ## 将 c_attn 层的权重分为 Q, K, V 权重\n",
    "        q_w, k_w, v_w = np.split(\n",
    "            (params[\"blocks\"][b][\"attn\"][\"c_attn\"])[\"w\"], 3, axis=-1)\n",
    "        # # 将Q、K、V权重分配给GPT模型中的相应层\n",
    "        #assign() 函数用于将这些值（经过转置）赋值给 gpt 中相应的 Query、Key 和 Value 层的权重。\n",
    "        gpt.trf_blocks[b].att.W_query.weight = assign(\n",
    "            gpt.trf_blocks[b].att.W_query.weight, q_w.T)\n",
    "        gpt.trf_blocks[b].att.W_key.weight = assign(\n",
    "            gpt.trf_blocks[b].att.W_key.weight, k_w.T)\n",
    "        gpt.trf_blocks[b].att.W_value.weight = assign(\n",
    "            gpt.trf_blocks[b].att.W_value.weight, v_w.T)\n",
    "\n",
    "        #加载自注意力层的偏置项\n",
    "        q_b, k_b, v_b = np.split(\n",
    "            (params[\"blocks\"][b][\"attn\"][\"c_attn\"])[\"b\"], 3, axis=-1)\n",
    "        gpt.trf_blocks[b].att.W_query.bias = assign(\n",
    "            gpt.trf_blocks[b].att.W_query.bias, q_b)\n",
    "        gpt.trf_blocks[b].att.W_key.bias = assign(\n",
    "            gpt.trf_blocks[b].att.W_key.bias, k_b)\n",
    "        gpt.trf_blocks[b].att.W_value.bias = assign(\n",
    "            gpt.trf_blocks[b].att.W_value.bias, v_b)\n",
    "\n",
    "        #加载自注意力层的输出投影层权重和偏置\n",
    "        gpt.trf_blocks[b].att.out_proj.weight = assign(  #输出投影层\n",
    "            gpt.trf_blocks[b].att.out_proj.weight, \n",
    "            params[\"blocks\"][b][\"attn\"][\"c_proj\"][\"w\"].T)\n",
    "        gpt.trf_blocks[b].att.out_proj.bias = assign(  #偏置\n",
    "            gpt.trf_blocks[b].att.out_proj.bias, \n",
    "            params[\"blocks\"][b][\"attn\"][\"c_proj\"][\"b\"])\n",
    "\n",
    "        #加载 FeedForward 层的权重和偏置\n",
    "        #分别加载多层感知器 (MLP) 中前馈网络的权重和偏置，赋值到 GPT 的 ff.layers[0] 和 ff.layers[2] 中。\n",
    "        gpt.trf_blocks[b].ff.layers[0].weight = assign(\n",
    "            gpt.trf_blocks[b].ff.layers[0].weight, \n",
    "            params[\"blocks\"][b][\"mlp\"][\"c_fc\"][\"w\"].T)\n",
    "        gpt.trf_blocks[b].ff.layers[0].bias = assign(\n",
    "            gpt.trf_blocks[b].ff.layers[0].bias, \n",
    "            params[\"blocks\"][b][\"mlp\"][\"c_fc\"][\"b\"])\n",
    "        gpt.trf_blocks[b].ff.layers[2].weight = assign(\n",
    "            gpt.trf_blocks[b].ff.layers[2].weight, \n",
    "            params[\"blocks\"][b][\"mlp\"][\"c_proj\"][\"w\"].T)\n",
    "        gpt.trf_blocks[b].ff.layers[2].bias = assign(\n",
    "            gpt.trf_blocks[b].ff.layers[2].bias, \n",
    "            params[\"blocks\"][b][\"mlp\"][\"c_proj\"][\"b\"])\n",
    "\n",
    "        #加载 LayerNorm 层的缩放和偏移参数\n",
    "        #加载每个 Transformer Block 中的 LayerNorm 层的 scale 和 shift 参数，赋值到 GPT 的 norm1 和 norm2 中。\n",
    "        gpt.trf_blocks[b].norm1.scale = assign(\n",
    "            gpt.trf_blocks[b].norm1.scale, \n",
    "            params[\"blocks\"][b][\"ln_1\"][\"g\"])\n",
    "        gpt.trf_blocks[b].norm1.shift = assign(\n",
    "            gpt.trf_blocks[b].norm1.shift, \n",
    "            params[\"blocks\"][b][\"ln_1\"][\"b\"])\n",
    "        gpt.trf_blocks[b].norm2.scale = assign(\n",
    "            gpt.trf_blocks[b].norm2.scale, \n",
    "            params[\"blocks\"][b][\"ln_2\"][\"g\"])\n",
    "        gpt.trf_blocks[b].norm2.shift = assign(\n",
    "            gpt.trf_blocks[b].norm2.shift, \n",
    "            params[\"blocks\"][b][\"ln_2\"][\"b\"])\n",
    "\n",
    "    #加载 GPT 的最终层权重和偏置\n",
    "    gpt.final_norm.scale = assign(gpt.final_norm.scale, params[\"g\"])\n",
    "    gpt.final_norm.shift = assign(gpt.final_norm.shift, params[\"b\"])\n",
    "    gpt.out_head.weight = assign(gpt.out_head.weight, params[\"wte\"])\n",
    "    \n",
    "#调用函数加载权重并将模型移动到设备  \n",
    "load_weights_into_gpt(gpt, params)\n",
    "gpt.to(device);"
   ]
  },
  {
   "cell_type": "markdown",
   "id": "9491c21c",
   "metadata": {},
   "source": [
    "- 如果模型加载正确，我们可以使用之前的 generate 函数生成新的文本。"
   ]
  },
  {
   "cell_type": "code",
   "execution_count": 56,
   "id": "eb79f3d8",
   "metadata": {},
   "outputs": [
    {
     "name": "stdout",
     "output_type": "stream",
     "text": [
      "Output text:\n",
      " Every effort moves you as far as the hand can go until the end of your turn unless something happens\n",
      "\n",
      "This would remove you from a battle\n"
     ]
    }
   ],
   "source": [
    "torch.manual_seed(123)\n",
    "\n",
    "token_ids = generate(\n",
    "    model=gpt,\n",
    "    idx=text_to_token_ids(\"Every effort moves you\", tokenizer).to(device),\n",
    "    max_new_tokens=25,\n",
    "    context_size=NEW_CONFIG[\"context_length\"],\n",
    "    top_k=50,   #每次只在概率前50的token之中选择\n",
    "    temperature=1.5   #更温和\n",
    ")\n",
    "\n",
    "print(\"Output text:\\n\", token_ids_to_text(token_ids, tokenizer))"
   ]
  },
  {
   "cell_type": "markdown",
   "id": "a5e78e6d",
   "metadata": {},
   "source": [
    "- 我们知道模型权重加载正确，因为模型可以生成连贯的文本；如果我们在加载过程中有任何小的错误，模型将无法做到这一点。\n",
    "\n",
    "- 有关从 Hugging Face Hub 加载权重的替代方法，请参阅 ../02_alternative_weight_loading。\n",
    "\n",
    "- 如果您有兴趣了解 GPT 架构与 Llama 架构（由 Meta AI 开发的热门 LLM）之间的比较，请参阅 ../07_gpt_to_llama 中的附加内容。"
   ]
  },
  {
   "cell_type": "code",
   "execution_count": null,
   "id": "c7d36dee",
   "metadata": {},
   "outputs": [],
   "source": []
  }
 ],
 "metadata": {
  "kernelspec": {
   "display_name": "LLMs",
   "language": "python",
   "name": "llms"
  },
  "language_info": {
   "codemirror_mode": {
    "name": "ipython",
    "version": 3
   },
   "file_extension": ".py",
   "mimetype": "text/x-python",
   "name": "python",
   "nbconvert_exporter": "python",
   "pygments_lexer": "ipython3",
   "version": "3.10.15"
  }
 },
 "nbformat": 4,
 "nbformat_minor": 5
}
