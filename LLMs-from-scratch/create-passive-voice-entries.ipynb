{
 "cells": [
  {
   "cell_type": "markdown",
   "id": "5a324c85",
   "metadata": {},
   "source": [
    "# 为指令数据集创建“被动语态”条目\n",
    "- 本笔记本使用OpenAI的GPT-4生成“被动语态”条目，用于指令数据集，示例如下。\n",
    "\n",
    "```python\n",
    "{  \n",
    "   'instruction': 'Identify the verb in the following sentence',\n",
    "   'input': 'The cat sleeps on the couch.',\n",
    "   'output': 'The verb in the sentence is \"sleeps.\"',\n",
    "   'output_2': 'The sentence is \"sleeps.\"'   #  <---- Newly created entry\n",
    "}  \n",
    "```"
   ]
  },
  {
   "cell_type": "code",
   "execution_count": 2,
   "id": "1b341c28",
   "metadata": {},
   "outputs": [
    {
     "name": "stdout",
     "output_type": "stream",
     "text": [
      "Collecting openai>=1.30.3 (from -r requirements-extra.txt (line 1))\n",
      "  Downloading openai-1.54.4-py3-none-any.whl.metadata (24 kB)\n",
      "Collecting scikit-learn>=1.3.1 (from -r requirements-extra.txt (line 2))\n",
      "  Downloading scikit_learn-1.5.2-cp310-cp310-win_amd64.whl.metadata (13 kB)\n",
      "Requirement already satisfied: tqdm>=4.65.0 in d:\\anaconda\\envs\\llms\\lib\\site-packages (from -r requirements-extra.txt (line 3)) (4.66.6)\n",
      "Requirement already satisfied: anyio<5,>=3.5.0 in d:\\anaconda\\envs\\llms\\lib\\site-packages (from openai>=1.30.3->-r requirements-extra.txt (line 1)) (4.6.2.post1)\n",
      "Collecting distro<2,>=1.7.0 (from openai>=1.30.3->-r requirements-extra.txt (line 1))\n",
      "  Downloading distro-1.9.0-py3-none-any.whl.metadata (6.8 kB)\n",
      "Requirement already satisfied: httpx<1,>=0.23.0 in d:\\anaconda\\envs\\llms\\lib\\site-packages (from openai>=1.30.3->-r requirements-extra.txt (line 1)) (0.27.2)\n",
      "Collecting jiter<1,>=0.4.0 (from openai>=1.30.3->-r requirements-extra.txt (line 1))\n",
      "  Downloading jiter-0.7.1-cp310-none-win_amd64.whl.metadata (5.3 kB)\n",
      "Requirement already satisfied: pydantic<3,>=1.9.0 in d:\\anaconda\\envs\\llms\\lib\\site-packages (from openai>=1.30.3->-r requirements-extra.txt (line 1)) (2.9.2)\n",
      "Requirement already satisfied: sniffio in d:\\anaconda\\envs\\llms\\lib\\site-packages (from openai>=1.30.3->-r requirements-extra.txt (line 1)) (1.3.1)\n",
      "Requirement already satisfied: typing-extensions<5,>=4.11 in d:\\anaconda\\envs\\llms\\lib\\site-packages (from openai>=1.30.3->-r requirements-extra.txt (line 1)) (4.12.2)\n",
      "Requirement already satisfied: numpy>=1.19.5 in d:\\anaconda\\envs\\llms\\lib\\site-packages (from scikit-learn>=1.3.1->-r requirements-extra.txt (line 2)) (1.26.3)\n",
      "Collecting scipy>=1.6.0 (from scikit-learn>=1.3.1->-r requirements-extra.txt (line 2))\n",
      "  Downloading scipy-1.14.1-cp310-cp310-win_amd64.whl.metadata (60 kB)\n",
      "Collecting joblib>=1.2.0 (from scikit-learn>=1.3.1->-r requirements-extra.txt (line 2))\n",
      "  Downloading joblib-1.4.2-py3-none-any.whl.metadata (5.4 kB)\n",
      "Collecting threadpoolctl>=3.1.0 (from scikit-learn>=1.3.1->-r requirements-extra.txt (line 2))\n",
      "  Downloading threadpoolctl-3.5.0-py3-none-any.whl.metadata (13 kB)\n",
      "Requirement already satisfied: colorama in d:\\anaconda\\envs\\llms\\lib\\site-packages (from tqdm>=4.65.0->-r requirements-extra.txt (line 3)) (0.4.6)\n",
      "Requirement already satisfied: idna>=2.8 in d:\\anaconda\\envs\\llms\\lib\\site-packages (from anyio<5,>=3.5.0->openai>=1.30.3->-r requirements-extra.txt (line 1)) (3.10)\n",
      "Requirement already satisfied: exceptiongroup>=1.0.2 in d:\\anaconda\\envs\\llms\\lib\\site-packages (from anyio<5,>=3.5.0->openai>=1.30.3->-r requirements-extra.txt (line 1)) (1.2.2)\n",
      "Requirement already satisfied: certifi in d:\\anaconda\\envs\\llms\\lib\\site-packages (from httpx<1,>=0.23.0->openai>=1.30.3->-r requirements-extra.txt (line 1)) (2024.8.30)\n",
      "Requirement already satisfied: httpcore==1.* in d:\\anaconda\\envs\\llms\\lib\\site-packages (from httpx<1,>=0.23.0->openai>=1.30.3->-r requirements-extra.txt (line 1)) (1.0.6)\n",
      "Requirement already satisfied: h11<0.15,>=0.13 in d:\\anaconda\\envs\\llms\\lib\\site-packages (from httpcore==1.*->httpx<1,>=0.23.0->openai>=1.30.3->-r requirements-extra.txt (line 1)) (0.14.0)\n",
      "Requirement already satisfied: annotated-types>=0.6.0 in d:\\anaconda\\envs\\llms\\lib\\site-packages (from pydantic<3,>=1.9.0->openai>=1.30.3->-r requirements-extra.txt (line 1)) (0.7.0)\n",
      "Requirement already satisfied: pydantic-core==2.23.4 in d:\\anaconda\\envs\\llms\\lib\\site-packages (from pydantic<3,>=1.9.0->openai>=1.30.3->-r requirements-extra.txt (line 1)) (2.23.4)\n",
      "Downloading openai-1.54.4-py3-none-any.whl (389 kB)\n",
      "Downloading scikit_learn-1.5.2-cp310-cp310-win_amd64.whl (11.0 MB)\n",
      "   ---------------------------------------- 0.0/11.0 MB ? eta -:--:--\n",
      "   ------ --------------------------------- 1.8/11.0 MB 9.2 MB/s eta 0:00:01\n",
      "   ----------------------- ---------------- 6.6/11.0 MB 16.1 MB/s eta 0:00:01\n",
      "   ------------------------------- -------- 8.7/11.0 MB 16.3 MB/s eta 0:00:01\n",
      "   ---------------------------------------- 11.0/11.0 MB 14.0 MB/s eta 0:00:00\n",
      "Downloading distro-1.9.0-py3-none-any.whl (20 kB)\n",
      "Downloading jiter-0.7.1-cp310-none-win_amd64.whl (201 kB)\n",
      "Downloading joblib-1.4.2-py3-none-any.whl (301 kB)\n",
      "Downloading scipy-1.14.1-cp310-cp310-win_amd64.whl (44.8 MB)\n",
      "   ---------------------------------------- 0.0/44.8 MB ? eta -:--:--\n",
      "   -- ------------------------------------- 2.9/44.8 MB 12.9 MB/s eta 0:00:04\n",
      "   ------- -------------------------------- 8.1/44.8 MB 19.4 MB/s eta 0:00:02\n",
      "   ---------- ----------------------------- 11.5/44.8 MB 18.0 MB/s eta 0:00:02\n",
      "   ------------ --------------------------- 13.6/44.8 MB 15.8 MB/s eta 0:00:02\n",
      "   ------------- -------------------------- 14.9/44.8 MB 14.0 MB/s eta 0:00:03\n",
      "   --------------- ------------------------ 17.8/44.8 MB 15.2 MB/s eta 0:00:02\n",
      "   ---------------- ----------------------- 18.1/44.8 MB 13.6 MB/s eta 0:00:02\n",
      "   ------------------- -------------------- 21.8/44.8 MB 12.7 MB/s eta 0:00:02\n",
      "   ------------------- -------------------- 22.0/44.8 MB 11.4 MB/s eta 0:00:02\n",
      "   ----------------------- ---------------- 26.0/44.8 MB 13.0 MB/s eta 0:00:02\n",
      "   --------------------------- ------------ 30.4/44.8 MB 13.7 MB/s eta 0:00:02\n",
      "   ------------------------------ --------- 34.6/44.8 MB 13.4 MB/s eta 0:00:01\n",
      "   ------------------------------- -------- 34.9/44.8 MB 13.4 MB/s eta 0:00:01\n",
      "   ---------------------------------- ----- 39.1/44.8 MB 13.8 MB/s eta 0:00:01\n",
      "   -------------------------------------- - 43.3/44.8 MB 13.5 MB/s eta 0:00:01\n",
      "   -------------------------------------- - 43.3/44.8 MB 13.5 MB/s eta 0:00:01\n",
      "   ---------------------------------------  44.6/44.8 MB 12.3 MB/s eta 0:00:01\n",
      "   ---------------------------------------- 44.8/44.8 MB 11.9 MB/s eta 0:00:00\n",
      "Downloading threadpoolctl-3.5.0-py3-none-any.whl (18 kB)\n",
      "Installing collected packages: threadpoolctl, scipy, joblib, jiter, distro, scikit-learn, openai\n",
      "Successfully installed distro-1.9.0 jiter-0.7.1 joblib-1.4.2 openai-1.54.4 scikit-learn-1.5.2 scipy-1.14.1 threadpoolctl-3.5.0\n",
      "Note: you may need to restart the kernel to use updated packages.\n"
     ]
    },
    {
     "name": "stderr",
     "output_type": "stream",
     "text": [
      "  WARNING: The script distro.exe is installed in 'D:\\Anaconda\\envs\\LLMs\\Scripts' which is not on PATH.\n",
      "  Consider adding this directory to PATH or, if you prefer to suppress this warning, use --no-warn-script-location.\n",
      "  WARNING: The script openai.exe is installed in 'D:\\Anaconda\\envs\\LLMs\\Scripts' which is not on PATH.\n",
      "  Consider adding this directory to PATH or, if you prefer to suppress this warning, use --no-warn-script-location.\n"
     ]
    }
   ],
   "source": [
    "pip install -r requirements-extra.txt"
   ]
  },
  {
   "cell_type": "code",
   "execution_count": 3,
   "id": "6fc0e754",
   "metadata": {},
   "outputs": [
    {
     "name": "stdout",
     "output_type": "stream",
     "text": [
      "openai version: 1.54.4\n",
      "tqdm version: 4.66.6\n"
     ]
    }
   ],
   "source": [
    "from importlib.metadata import version\n",
    "\n",
    "pkgs = [\"openai\",  # OpenAI API\n",
    "        \"tqdm\",    # Progress bar\n",
    "       ]\n",
    "\n",
    "for p in pkgs:\n",
    "    print(f\"{p} version: {version(p)}\")"
   ]
  },
  {
   "cell_type": "markdown",
   "id": "86b73559",
   "metadata": {},
   "source": [
    "## 测试OpenAI API\n",
    "- 首先，我们需要测试OpenAI API是否已正确设置。\n",
    "\n",
    "- 如果你还没有账户，可以前往OpenAI平台创建一个。\n",
    "- 请注意，GPT-4 API并不是免费的，你需要向账户转入资金（详见计费页面）。\n",
    "- 使用本笔记本代码生成约200条“被动语态”条目需要花费约0.13美元（13美分）。\n",
    "\n",
    "#### 提供API密钥\n",
    "- 首先，需要提供你的OpenAI API密钥，该密钥可以在API密钥页面找到。\n",
    "- 请确保不要将此密钥与他人分享。\n",
    "- 将此密钥（以“sk-...”开头）添加到此文件夹中的config.json文件中。"
   ]
  },
  {
   "cell_type": "code",
   "execution_count": null,
   "id": "a6acaf95",
   "metadata": {},
   "outputs": [],
   "source": [
    "import json\n",
    "from openai import OpenAI\n",
    "\n",
    "# Load API key from a JSON file. \n",
    "# Make sure to replace \"sk-...\" with your actual API key from https://platform.openai.com/api-keys\n",
    "with open(\"config.json\", \"r\") as config_file:\n",
    "    config = json.load(config_file)\n",
    "    api_key = config[\"OPENAI_API_KEY\"]\n",
    "\n",
    "client = OpenAI(api_key=api_key)"
   ]
  },
  {
   "cell_type": "code",
   "execution_count": null,
   "id": "47db8407",
   "metadata": {},
   "outputs": [],
   "source": [
    "#First, let's try the API with a simple example to make sure it works as intended:\n",
    "def run_chatgpt(prompt, client, model=\"gpt-4-turbo\"):\n",
    "    response = client.chat.completions.create(\n",
    "        model=model,\n",
    "        messages=[{\"role\": \"user\", \"content\": prompt}],\n",
    "        temperature=0.0,\n",
    "    )\n",
    "    return response.choices[0].message.content\n",
    "\n",
    "\n",
    "# Prepare input\n",
    "sentence = \"I ate breakfast\"\n",
    "prompt = f\"Convert the following sentence to passive voice: '{sentence}'\"\n",
    "run_chatgpt(prompt, client)"
   ]
  },
  {
   "cell_type": "markdown",
   "id": "000246fd",
   "metadata": {},
   "source": [
    "#### 创建JSON条目\n",
    "接下来，我们加载需要修改的文件：\n",
    "\n"
   ]
  },
  {
   "cell_type": "code",
   "execution_count": null,
   "id": "be1c470a",
   "metadata": {},
   "outputs": [],
   "source": [
    "import json\n",
    "\n",
    "json_file = \"instruction-examples.json\"\n",
    "\n",
    "with open(json_file, \"r\") as file:\n",
    "    json_data = json.load(file)\n",
    "    \n",
    "print(\"Number of entries:\", len(json_data))"
   ]
  },
  {
   "cell_type": "code",
   "execution_count": null,
   "id": "da942722",
   "metadata": {},
   "outputs": [],
   "source": [
    "#我们会在一个小样本上尝试OpenAI的聊天API，以确保其能够正确运行。\n",
    "\n",
    "for entry in json_data[:5]:\n",
    "    text = entry[\"output\"]\n",
    "    prompt = f\"Without adding any response or explanation, convert the following text to passive voice: {text}\"\n",
    "    \n",
    "    print(\"\\nInput:\")\n",
    "    print(\">>\", text)\n",
    "    print(\"\\nOutput:\")\n",
    "    print(\">>\", run_chatgpt(prompt, client))\n",
    "    print(\"\\n-------------------------\")"
   ]
  },
  {
   "cell_type": "markdown",
   "id": "ce1e365f",
   "metadata": {},
   "source": [
    "- 现在，我们扩展代码，将生成的条目添加到json_data中，并加入一个进度条以监控过程。"
   ]
  },
  {
   "cell_type": "code",
   "execution_count": null,
   "id": "16749d39",
   "metadata": {},
   "outputs": [],
   "source": [
    "from tqdm import tqdm  # a progress bar tool\n",
    "\n",
    "\n",
    "for i, entry in tqdm(enumerate(json_data[:5]), total=len(json_data[:5])):\n",
    "    text = entry[\"output\"]\n",
    "    prompt = f\"Without adding any response or explanation, convert the following text to passive voice: {text}\"\n",
    "    json_data[i][\"output_2\"] = run_chatgpt(prompt, client)"
   ]
  },
  {
   "cell_type": "markdown",
   "id": "9b37a7c3",
   "metadata": {},
   "source": [
    "如果以上所有步骤运行正常，我们可以对整个JSON数据集执行被动语态转换（此过程大约需要3分钟）。"
   ]
  },
  {
   "cell_type": "code",
   "execution_count": null,
   "id": "b72c6df6",
   "metadata": {},
   "outputs": [],
   "source": [
    "for i, entry in tqdm(enumerate(json_data), total=len(json_data)):\n",
    "    text = entry[\"output\"]\n",
    "    prompt = f\"Without adding any response or explanation, convert the following text to passive voice: {text}\"\n",
    "    json_data[i][\"output_2\"] = run_chatgpt(prompt, client)"
   ]
  },
  {
   "cell_type": "code",
   "execution_count": null,
   "id": "ffa7475c",
   "metadata": {},
   "outputs": [],
   "source": [
    "#保存文件\n",
    "\n",
    "new_json_file = json_file.replace(\".json\", \"-modified.json\")\n",
    "\n",
    "\n",
    "with open(new_json_file, \"w\") as file:\n",
    "    json.dump(json_data, file, indent=4)  # \"indent\" for pretty-printing"
   ]
  }
 ],
 "metadata": {
  "kernelspec": {
   "display_name": "LLMs",
   "language": "python",
   "name": "llms"
  },
  "language_info": {
   "codemirror_mode": {
    "name": "ipython",
    "version": 3
   },
   "file_extension": ".py",
   "mimetype": "text/x-python",
   "name": "python",
   "nbconvert_exporter": "python",
   "pygments_lexer": "ipython3",
   "version": "3.10.15"
  }
 },
 "nbformat": 4,
 "nbformat_minor": 5
}
